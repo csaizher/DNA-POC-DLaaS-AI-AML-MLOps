{
  "cells": [
    {
      "cell_type": "markdown",
      "metadata": {
        "nteract": {
          "transient": {
            "deleting": false
          }
        }
      },
      "source": [
        "# Fase 1: Discovery: data analysis.\n",
        "\n",
        "## Imports and load data"
      ]
    },
    {
      "cell_type": "markdown",
      "metadata": {
        "nteract": {
          "transient": {
            "deleting": false
          }
        }
      },
      "source": [
        "# 1.0. Upload of used libraries"
      ]
    },
    {
      "cell_type": "markdown",
      "metadata": {
        "nteract": {
          "transient": {
            "deleting": false
          }
        }
      },
      "source": [
        "## Loading MLOPs framework libraries"
      ]
    },
    {
      "cell_type": "code",
      "execution_count": 1,
      "metadata": {
        "gather": {
          "logged": 1643118010444
        },
        "jupyter": {
          "outputs_hidden": false,
          "source_hidden": false
        },
        "nteract": {
          "transient": {
            "deleting": false
          }
        }
      },
      "outputs": [
        {
          "data": {
            "text/plain": [
              "0"
            ]
          },
          "execution_count": 1,
          "metadata": {},
          "output_type": "execute_result"
        }
      ],
      "source": [
        "from azureml.core import Workspace  \n",
        "from amlops.mlodata import MLOData\n",
        "import pandas as pd\n",
        "import numpy as np\n",
        "import seaborn as sns\n",
        "import matplotlib\n",
        "import matplotlib.pyplot as plt\n",
        "from sklearn.preprocessing import LabelEncoder\n",
        "import re\n",
        "import gc\n",
        "import os\n",
        "\n",
        "# Limpiamos notebook\n",
        "gc.collect()"
      ]
    },
    {
      "cell_type": "markdown",
      "metadata": {
        "nteract": {
          "transient": {
            "deleting": false
          }
        }
      },
      "source": [
        "# 1.1. Loading data from the 'modelling' schema"
      ]
    },
    {
      "cell_type": "markdown",
      "metadata": {
        "nteract": {
          "transient": {
            "deleting": false
          }
        }
      },
      "source": [
        "## Data access and download"
      ]
    },
    {
      "cell_type": "code",
      "execution_count": 2,
      "metadata": {
        "gather": {
          "logged": 1643118020048
        },
        "jupyter": {
          "outputs_hidden": false,
          "source_hidden": false
        },
        "nteract": {
          "transient": {
            "deleting": false
          }
        }
      },
      "outputs": [],
      "source": [
        "# Conexión al workspace de AzureML\n",
        "workspace = Workspace.from_config()\n",
        "\n",
        "# Definición de los ficheros a descargar del Datastore\n",
        "datastore_name='data_service_data'\n",
        "datastore_path_pattern = 'Credit_Admision_DemoData.csv'\n",
        "separator_type = ';'\n",
        "\n",
        "# Cargamos datos\n",
        "df_aux = MLOData.load_path_as_df(workspace, datastore_name, datastore_path_pattern, separator_type)\n",
        "df_aux.columns = (df_aux.iloc[0]).values\n",
        "df_aux = df_aux[1:]"
      ]
    },
    {
      "cell_type": "markdown",
      "metadata": {
        "nteract": {
          "transient": {
            "deleting": false
          }
        }
      },
      "source": [
        "## Loaded data is displayed and dimensionality is studied\n"
      ]
    },
    {
      "cell_type": "code",
      "execution_count": 3,
      "metadata": {
        "gather": {
          "logged": 1643118020527
        },
        "jupyter": {
          "outputs_hidden": false,
          "source_hidden": false
        },
        "nteract": {
          "transient": {
            "deleting": false
          }
        }
      },
      "outputs": [
        {
          "name": "stdout",
          "output_type": "stream",
          "text": [
            " Dimensión del dataset (3168, 21)\n"
          ]
        },
        {
          "data": {
            "text/html": [
              "<div>\n",
              "<style scoped>\n",
              "    .dataframe tbody tr th:only-of-type {\n",
              "        vertical-align: middle;\n",
              "    }\n",
              "\n",
              "    .dataframe tbody tr th {\n",
              "        vertical-align: top;\n",
              "    }\n",
              "\n",
              "    .dataframe thead th {\n",
              "        text-align: right;\n",
              "    }\n",
              "</style>\n",
              "<table border=\"1\" class=\"dataframe\">\n",
              "  <thead>\n",
              "    <tr style=\"text-align: right;\">\n",
              "      <th></th>\n",
              "      <th>Month_ID</th>\n",
              "      <th>CCAA</th>\n",
              "      <th>First_Submission</th>\n",
              "      <th>SCF_Total_Amount_Financed</th>\n",
              "      <th>Other_Total_Amount_Financed</th>\n",
              "      <th>SCF_Interest_Rate</th>\n",
              "      <th>Other_Interest_Rate_Higher</th>\n",
              "      <th>SCF_Borrowing_Term</th>\n",
              "      <th>Other__Borrowing_Term</th>\n",
              "      <th>SCF_Amortization_Term</th>\n",
              "      <th>...</th>\n",
              "      <th>SCF_Monthly_Payment</th>\n",
              "      <th>Other_Monthly_Payment</th>\n",
              "      <th>SCF_Down_Payment</th>\n",
              "      <th>Other_Down_Payment</th>\n",
              "      <th>SCF_Initial_Credit_Decision_Time_Min</th>\n",
              "      <th>Other_Initial_Credit_Decision_Time_Min</th>\n",
              "      <th>SCF_Promotion_Campaign</th>\n",
              "      <th>Other_Promotion_Campaign</th>\n",
              "      <th>SCF_Funded</th>\n",
              "      <th>Ind_SCF_Funded</th>\n",
              "    </tr>\n",
              "  </thead>\n",
              "  <tbody>\n",
              "    <tr>\n",
              "      <th>1</th>\n",
              "      <td>202007</td>\n",
              "      <td>CATALUÑA</td>\n",
              "      <td>N</td>\n",
              "      <td>34930,32</td>\n",
              "      <td>34969,32</td>\n",
              "      <td>10,5</td>\n",
              "      <td>Yes</td>\n",
              "      <td>84</td>\n",
              "      <td>84</td>\n",
              "      <td>84</td>\n",
              "      <td>...</td>\n",
              "      <td>588,0117</td>\n",
              "      <td>600-625</td>\n",
              "      <td>0</td>\n",
              "      <td>0</td>\n",
              "      <td>10,5</td>\n",
              "      <td>1179,5</td>\n",
              "      <td>No</td>\n",
              "      <td>No</td>\n",
              "      <td>FUNDED</td>\n",
              "      <td>1</td>\n",
              "    </tr>\n",
              "    <tr>\n",
              "      <th>2</th>\n",
              "      <td>202007</td>\n",
              "      <td>PAIS VASCO</td>\n",
              "      <td>N</td>\n",
              "      <td>28221,1</td>\n",
              "      <td>29279,04</td>\n",
              "      <td>11,99</td>\n",
              "      <td>Yes</td>\n",
              "      <td>78</td>\n",
              "      <td>84</td>\n",
              "      <td>78</td>\n",
              "      <td>...</td>\n",
              "      <td>522,2317</td>\n",
              "      <td>650-675</td>\n",
              "      <td>0</td>\n",
              "      <td>0</td>\n",
              "      <td>70,7</td>\n",
              "      <td>47,6</td>\n",
              "      <td>No</td>\n",
              "      <td>No</td>\n",
              "      <td>FUNDED</td>\n",
              "      <td>1</td>\n",
              "    </tr>\n",
              "    <tr>\n",
              "      <th>3</th>\n",
              "      <td>202007</td>\n",
              "      <td>PAIS VASCO</td>\n",
              "      <td>N</td>\n",
              "      <td>35306,85</td>\n",
              "      <td>0</td>\n",
              "      <td>8,99</td>\n",
              "      <td>Yes</td>\n",
              "      <td>72</td>\n",
              "      <td>None</td>\n",
              "      <td>72</td>\n",
              "      <td>...</td>\n",
              "      <td>637,04</td>\n",
              "      <td>750-775</td>\n",
              "      <td>0</td>\n",
              "      <td>0</td>\n",
              "      <td>86,4</td>\n",
              "      <td>214,3</td>\n",
              "      <td>No</td>\n",
              "      <td>No</td>\n",
              "      <td>FUNDED</td>\n",
              "      <td>1</td>\n",
              "    </tr>\n",
              "    <tr>\n",
              "      <th>4</th>\n",
              "      <td>202007</td>\n",
              "      <td>COMUNIDAD DE MADRID</td>\n",
              "      <td>N</td>\n",
              "      <td>27083,87</td>\n",
              "      <td>28044,56</td>\n",
              "      <td>20,99</td>\n",
              "      <td>Yes</td>\n",
              "      <td>78</td>\n",
              "      <td>78</td>\n",
              "      <td>78</td>\n",
              "      <td>...</td>\n",
              "      <td>640,1417</td>\n",
              "      <td>475-500</td>\n",
              "      <td>0</td>\n",
              "      <td>0</td>\n",
              "      <td>3,3</td>\n",
              "      <td>14,2</td>\n",
              "      <td>No</td>\n",
              "      <td>No</td>\n",
              "      <td>FUNDED</td>\n",
              "      <td>1</td>\n",
              "    </tr>\n",
              "    <tr>\n",
              "      <th>5</th>\n",
              "      <td>202007</td>\n",
              "      <td>COMUNIDAD DE MADRID</td>\n",
              "      <td>Y</td>\n",
              "      <td>15259,04</td>\n",
              "      <td>14583,3</td>\n",
              "      <td>11,99</td>\n",
              "      <td>Yes</td>\n",
              "      <td>72</td>\n",
              "      <td>66</td>\n",
              "      <td>72</td>\n",
              "      <td>...</td>\n",
              "      <td>298,3717</td>\n",
              "      <td>325-350</td>\n",
              "      <td>0</td>\n",
              "      <td>0</td>\n",
              "      <td>6,4</td>\n",
              "      <td>119,6</td>\n",
              "      <td>No</td>\n",
              "      <td>No</td>\n",
              "      <td>FUNDED</td>\n",
              "      <td>1</td>\n",
              "    </tr>\n",
              "  </tbody>\n",
              "</table>\n",
              "<p>5 rows × 21 columns</p>\n",
              "</div>"
            ],
            "text/plain": [
              "  Month_ID                 CCAA First_Submission SCF_Total_Amount_Financed  \\\n",
              "1   202007             CATALUÑA                N                  34930,32   \n",
              "2   202007           PAIS VASCO                N                   28221,1   \n",
              "3   202007           PAIS VASCO                N                  35306,85   \n",
              "4   202007  COMUNIDAD DE MADRID                N                  27083,87   \n",
              "5   202007  COMUNIDAD DE MADRID                Y                  15259,04   \n",
              "\n",
              "  Other_Total_Amount_Financed SCF_Interest_Rate Other_Interest_Rate_Higher  \\\n",
              "1                    34969,32              10,5                        Yes   \n",
              "2                    29279,04             11,99                        Yes   \n",
              "3                           0              8,99                        Yes   \n",
              "4                    28044,56             20,99                        Yes   \n",
              "5                     14583,3             11,99                        Yes   \n",
              "\n",
              "  SCF_Borrowing_Term Other__Borrowing_Term SCF_Amortization_Term  ...  \\\n",
              "1                 84                    84                    84  ...   \n",
              "2                 78                    84                    78  ...   \n",
              "3                 72                  None                    72  ...   \n",
              "4                 78                    78                    78  ...   \n",
              "5                 72                    66                    72  ...   \n",
              "\n",
              "  SCF_Monthly_Payment Other_Monthly_Payment SCF_Down_Payment  \\\n",
              "1            588,0117               600-625                0   \n",
              "2            522,2317               650-675                0   \n",
              "3              637,04               750-775                0   \n",
              "4            640,1417               475-500                0   \n",
              "5            298,3717               325-350                0   \n",
              "\n",
              "  Other_Down_Payment SCF_Initial_Credit_Decision_Time_Min  \\\n",
              "1                  0                                 10,5   \n",
              "2                  0                                 70,7   \n",
              "3                  0                                 86,4   \n",
              "4                  0                                  3,3   \n",
              "5                  0                                  6,4   \n",
              "\n",
              "  Other_Initial_Credit_Decision_Time_Min SCF_Promotion_Campaign  \\\n",
              "1                                 1179,5                     No   \n",
              "2                                   47,6                     No   \n",
              "3                                  214,3                     No   \n",
              "4                                   14,2                     No   \n",
              "5                                  119,6                     No   \n",
              "\n",
              "  Other_Promotion_Campaign SCF_Funded Ind_SCF_Funded  \n",
              "1                       No     FUNDED              1  \n",
              "2                       No     FUNDED              1  \n",
              "3                       No     FUNDED              1  \n",
              "4                       No     FUNDED              1  \n",
              "5                       No     FUNDED              1  \n",
              "\n",
              "[5 rows x 21 columns]"
            ]
          },
          "execution_count": 3,
          "metadata": {},
          "output_type": "execute_result"
        }
      ],
      "source": [
        "# Muestra de datos\n",
        "print(f' Dimensión del dataset {df_aux.shape}')\n",
        "df_aux.head()"
      ]
    },
    {
      "cell_type": "markdown",
      "metadata": {
        "nteract": {
          "transient": {
            "deleting": false
          }
        }
      },
      "source": [
        "## The number of total columns, the data type of the columns, and if they have null values ​​are observed"
      ]
    },
    {
      "cell_type": "code",
      "execution_count": 4,
      "metadata": {
        "gather": {
          "logged": 1643118021021
        },
        "jupyter": {
          "outputs_hidden": false,
          "source_hidden": false
        },
        "nteract": {
          "transient": {
            "deleting": false
          }
        }
      },
      "outputs": [
        {
          "name": "stdout",
          "output_type": "stream",
          "text": [
            "<class 'pandas.core.frame.DataFrame'>\n",
            "RangeIndex: 3168 entries, 1 to 3168\n",
            "Data columns (total 21 columns):\n",
            " #   Column                                  Non-Null Count  Dtype \n",
            "---  ------                                  --------------  ----- \n",
            " 0   Month_ID                                3168 non-null   object\n",
            " 1   CCAA                                    3168 non-null   object\n",
            " 2   First_Submission                        3168 non-null   object\n",
            " 3   SCF_Total_Amount_Financed               3168 non-null   object\n",
            " 4   Other_Total_Amount_Financed             3168 non-null   object\n",
            " 5   SCF_Interest_Rate                       3168 non-null   object\n",
            " 6   Other_Interest_Rate_Higher              3168 non-null   object\n",
            " 7   SCF_Borrowing_Term                      3168 non-null   object\n",
            " 8   Other__Borrowing_Term                   3063 non-null   object\n",
            " 9   SCF_Amortization_Term                   3168 non-null   object\n",
            " 10  Other_Amortization_Term                 3014 non-null   object\n",
            " 11  SCF_Monthly_Payment                     3168 non-null   object\n",
            " 12  Other_Monthly_Payment                   3149 non-null   object\n",
            " 13  SCF_Down_Payment                        3168 non-null   object\n",
            " 14  Other_Down_Payment                      3168 non-null   object\n",
            " 15  SCF_Initial_Credit_Decision_Time_Min    3168 non-null   object\n",
            " 16  Other_Initial_Credit_Decision_Time_Min  3168 non-null   object\n",
            " 17  SCF_Promotion_Campaign                  3168 non-null   object\n",
            " 18  Other_Promotion_Campaign                3168 non-null   object\n",
            " 19  SCF_Funded                              3168 non-null   object\n",
            " 20  Ind_SCF_Funded                          3168 non-null   object\n",
            "dtypes: object(21)\n",
            "memory usage: 519.9+ KB\n"
          ]
        }
      ],
      "source": [
        "df_aux.info()"
      ]
    },
    {
      "cell_type": "markdown",
      "metadata": {
        "nteract": {
          "transient": {
            "deleting": false
          }
        }
      },
      "source": [
        "Se observan columnas con datos a tratar, por ejemplo, _Other_Monthly_Payment_, en la que los valores son de tipo rango"
      ]
    },
    {
      "cell_type": "code",
      "execution_count": 5,
      "metadata": {
        "gather": {
          "logged": 1643118021562
        },
        "jupyter": {
          "outputs_hidden": false,
          "source_hidden": false
        },
        "nteract": {
          "transient": {
            "deleting": false
          }
        }
      },
      "outputs": [
        {
          "data": {
            "text/plain": [
              "1       600-625\n",
              "2       650-675\n",
              "3       750-775\n",
              "4       475-500\n",
              "5       325-350\n",
              "         ...   \n",
              "3164    475-500\n",
              "3165    525-550\n",
              "3166    300-325\n",
              "3167    600-625\n",
              "3168    425-450\n",
              "Name: Other_Monthly_Payment, Length: 3168, dtype: object"
            ]
          },
          "execution_count": 5,
          "metadata": {},
          "output_type": "execute_result"
        }
      ],
      "source": [
        "df_aux['Other_Monthly_Payment']"
      ]
    },
    {
      "cell_type": "markdown",
      "metadata": {
        "nteract": {
          "transient": {
            "deleting": false
          }
        }
      },
      "source": [
        "## Data cleaning is performed"
      ]
    },
    {
      "cell_type": "code",
      "execution_count": 6,
      "metadata": {
        "gather": {
          "logged": 1643118022016
        },
        "jupyter": {
          "outputs_hidden": false,
          "source_hidden": false
        },
        "nteract": {
          "transient": {
            "deleting": false
          }
        }
      },
      "outputs": [],
      "source": [
        "df_aux1 = df_aux.copy()\n",
        "df_aux1['Other_Monthly_Payment'].fillna('0-0', inplace=True)\n",
        "df_aux1['Mean_Monthly_Payment'] = [((int(x)+int(y))/2) for x,y in df_aux1['Other_Monthly_Payment'].str.split('-')]"
      ]
    },
    {
      "cell_type": "markdown",
      "metadata": {
        "nteract": {
          "transient": {
            "deleting": false
          }
        }
      },
      "source": [
        "Result of the variable _Other_Monthly_Payment_ after converting the value of type range to the mean\n",
        "**Note**: two variables were also created, one with the minimum value of the range, and another with the maximum, but they had a high correlation, so it was preferred to take the mean.\n"
      ]
    },
    {
      "cell_type": "code",
      "execution_count": 7,
      "metadata": {
        "gather": {
          "logged": 1643118022484
        },
        "jupyter": {
          "outputs_hidden": false,
          "source_hidden": false
        },
        "nteract": {
          "transient": {
            "deleting": false
          }
        }
      },
      "outputs": [
        {
          "data": {
            "text/plain": [
              "1    612.5\n",
              "2    662.5\n",
              "3    762.5\n",
              "4    487.5\n",
              "5    337.5\n",
              "Name: Mean_Monthly_Payment, dtype: float64"
            ]
          },
          "execution_count": 7,
          "metadata": {},
          "output_type": "execute_result"
        }
      ],
      "source": [
        "df_aux1['Mean_Monthly_Payment'].head()"
      ]
    },
    {
      "cell_type": "markdown",
      "metadata": {
        "nteract": {
          "transient": {
            "deleting": false
          }
        }
      },
      "source": [
        "## Elimination of the date variable, because all the data has the same date.\n",
        "\n",
        "*Note:* In the transformation of variables, the value of *Month_ID* is separated by month and year. As each column has the same values ​​for its instances, and the correlation of this variable with the variable to be predicted is minimal, it is eliminated."
      ]
    },
    {
      "cell_type": "code",
      "execution_count": 8,
      "metadata": {
        "gather": {
          "logged": 1643118022923
        },
        "jupyter": {
          "outputs_hidden": false,
          "source_hidden": false
        },
        "nteract": {
          "transient": {
            "deleting": false
          }
        }
      },
      "outputs": [
        {
          "data": {
            "text/plain": [
              "202007    3168\n",
              "Name: Month_ID, dtype: int64"
            ]
          },
          "execution_count": 8,
          "metadata": {},
          "output_type": "execute_result"
        }
      ],
      "source": [
        "df_aux1['Month_ID'].value_counts()"
      ]
    },
    {
      "cell_type": "code",
      "execution_count": 9,
      "metadata": {
        "gather": {
          "logged": 1643118023306
        },
        "jupyter": {
          "outputs_hidden": false,
          "source_hidden": false
        },
        "nteract": {
          "transient": {
            "deleting": false
          }
        }
      },
      "outputs": [],
      "source": [
        "df_aux1 = df_aux1.drop(['Month_ID', 'Other_Monthly_Payment'], axis=1)"
      ]
    },
    {
      "cell_type": "markdown",
      "metadata": {
        "nteract": {
          "transient": {
            "deleting": false
          }
        }
      },
      "source": [
        "## The resulting columns are observed after eliminating the variables _Month_ID_ and _Other_Monthly_Payment_"
      ]
    },
    {
      "cell_type": "code",
      "execution_count": 10,
      "metadata": {
        "gather": {
          "logged": 1643118023701
        },
        "jupyter": {
          "outputs_hidden": false,
          "source_hidden": false
        },
        "nteract": {
          "transient": {
            "deleting": false
          }
        }
      },
      "outputs": [
        {
          "data": {
            "text/plain": [
              "Index(['CCAA', 'First_Submission', 'SCF_Total_Amount_Financed',\n",
              "       'Other_Total_Amount_Financed', 'SCF_Interest_Rate',\n",
              "       'Other_Interest_Rate_Higher', 'SCF_Borrowing_Term',\n",
              "       'Other__Borrowing_Term', 'SCF_Amortization_Term',\n",
              "       'Other_Amortization_Term', 'SCF_Monthly_Payment', 'SCF_Down_Payment',\n",
              "       'Other_Down_Payment', 'SCF_Initial_Credit_Decision_Time_Min',\n",
              "       'Other_Initial_Credit_Decision_Time_Min', 'SCF_Promotion_Campaign',\n",
              "       'Other_Promotion_Campaign', 'SCF_Funded', 'Ind_SCF_Funded',\n",
              "       'Mean_Monthly_Payment'],\n",
              "      dtype='object')"
            ]
          },
          "execution_count": 10,
          "metadata": {},
          "output_type": "execute_result"
        }
      ],
      "source": [
        "df_aux1.columns"
      ]
    },
    {
      "cell_type": "markdown",
      "metadata": {
        "nteract": {
          "transient": {
            "deleting": false
          }
        }
      },
      "source": [
        "### The **conversion** of **categorical** variables to **numeric** is performed."
      ]
    },
    {
      "cell_type": "markdown",
      "metadata": {
        "nteract": {
          "transient": {
            "deleting": false
          }
        }
      },
      "source": [
        "Categorical variables are displayed"
      ]
    },
    {
      "cell_type": "code",
      "execution_count": 11,
      "metadata": {
        "gather": {
          "logged": 1643118024099
        },
        "jupyter": {
          "outputs_hidden": false,
          "source_hidden": false
        },
        "nteract": {
          "transient": {
            "deleting": false
          }
        }
      },
      "outputs": [
        {
          "data": {
            "text/html": [
              "<div>\n",
              "<style scoped>\n",
              "    .dataframe tbody tr th:only-of-type {\n",
              "        vertical-align: middle;\n",
              "    }\n",
              "\n",
              "    .dataframe tbody tr th {\n",
              "        vertical-align: top;\n",
              "    }\n",
              "\n",
              "    .dataframe thead th {\n",
              "        text-align: right;\n",
              "    }\n",
              "</style>\n",
              "<table border=\"1\" class=\"dataframe\">\n",
              "  <thead>\n",
              "    <tr style=\"text-align: right;\">\n",
              "      <th></th>\n",
              "      <th>CCAA</th>\n",
              "      <th>First_Submission</th>\n",
              "      <th>Other_Interest_Rate_Higher</th>\n",
              "      <th>SCF_Down_Payment</th>\n",
              "      <th>Other_Down_Payment</th>\n",
              "      <th>SCF_Promotion_Campaign</th>\n",
              "      <th>Other_Promotion_Campaign</th>\n",
              "    </tr>\n",
              "  </thead>\n",
              "  <tbody>\n",
              "    <tr>\n",
              "      <th>1</th>\n",
              "      <td>CATALUÑA</td>\n",
              "      <td>N</td>\n",
              "      <td>Yes</td>\n",
              "      <td>0</td>\n",
              "      <td>0</td>\n",
              "      <td>No</td>\n",
              "      <td>No</td>\n",
              "    </tr>\n",
              "    <tr>\n",
              "      <th>2</th>\n",
              "      <td>PAIS VASCO</td>\n",
              "      <td>N</td>\n",
              "      <td>Yes</td>\n",
              "      <td>0</td>\n",
              "      <td>0</td>\n",
              "      <td>No</td>\n",
              "      <td>No</td>\n",
              "    </tr>\n",
              "    <tr>\n",
              "      <th>3</th>\n",
              "      <td>PAIS VASCO</td>\n",
              "      <td>N</td>\n",
              "      <td>Yes</td>\n",
              "      <td>0</td>\n",
              "      <td>0</td>\n",
              "      <td>No</td>\n",
              "      <td>No</td>\n",
              "    </tr>\n",
              "    <tr>\n",
              "      <th>4</th>\n",
              "      <td>COMUNIDAD DE MADRID</td>\n",
              "      <td>N</td>\n",
              "      <td>Yes</td>\n",
              "      <td>0</td>\n",
              "      <td>0</td>\n",
              "      <td>No</td>\n",
              "      <td>No</td>\n",
              "    </tr>\n",
              "    <tr>\n",
              "      <th>5</th>\n",
              "      <td>COMUNIDAD DE MADRID</td>\n",
              "      <td>Y</td>\n",
              "      <td>Yes</td>\n",
              "      <td>0</td>\n",
              "      <td>0</td>\n",
              "      <td>No</td>\n",
              "      <td>No</td>\n",
              "    </tr>\n",
              "    <tr>\n",
              "      <th>...</th>\n",
              "      <td>...</td>\n",
              "      <td>...</td>\n",
              "      <td>...</td>\n",
              "      <td>...</td>\n",
              "      <td>...</td>\n",
              "      <td>...</td>\n",
              "      <td>...</td>\n",
              "    </tr>\n",
              "    <tr>\n",
              "      <th>3164</th>\n",
              "      <td>CATALUÑA</td>\n",
              "      <td>Y</td>\n",
              "      <td>No</td>\n",
              "      <td>0</td>\n",
              "      <td>0</td>\n",
              "      <td>No</td>\n",
              "      <td>No</td>\n",
              "    </tr>\n",
              "    <tr>\n",
              "      <th>3165</th>\n",
              "      <td>CATALUÑA</td>\n",
              "      <td>Y</td>\n",
              "      <td>No</td>\n",
              "      <td>500</td>\n",
              "      <td>0</td>\n",
              "      <td>No</td>\n",
              "      <td>No</td>\n",
              "    </tr>\n",
              "    <tr>\n",
              "      <th>3166</th>\n",
              "      <td>CANARIAS</td>\n",
              "      <td>N</td>\n",
              "      <td>No</td>\n",
              "      <td>0</td>\n",
              "      <td>0</td>\n",
              "      <td>No</td>\n",
              "      <td>No</td>\n",
              "    </tr>\n",
              "    <tr>\n",
              "      <th>3167</th>\n",
              "      <td>CATALUÑA</td>\n",
              "      <td>N</td>\n",
              "      <td>No</td>\n",
              "      <td>0</td>\n",
              "      <td>0</td>\n",
              "      <td>No</td>\n",
              "      <td>No</td>\n",
              "    </tr>\n",
              "    <tr>\n",
              "      <th>3168</th>\n",
              "      <td>GALICIA</td>\n",
              "      <td>N</td>\n",
              "      <td>No</td>\n",
              "      <td>21074,22</td>\n",
              "      <td>0</td>\n",
              "      <td>No</td>\n",
              "      <td>No</td>\n",
              "    </tr>\n",
              "  </tbody>\n",
              "</table>\n",
              "<p>3168 rows × 7 columns</p>\n",
              "</div>"
            ],
            "text/plain": [
              "                     CCAA First_Submission Other_Interest_Rate_Higher  \\\n",
              "1                CATALUÑA                N                        Yes   \n",
              "2              PAIS VASCO                N                        Yes   \n",
              "3              PAIS VASCO                N                        Yes   \n",
              "4     COMUNIDAD DE MADRID                N                        Yes   \n",
              "5     COMUNIDAD DE MADRID                Y                        Yes   \n",
              "...                   ...              ...                        ...   \n",
              "3164             CATALUÑA                Y                         No   \n",
              "3165             CATALUÑA                Y                         No   \n",
              "3166             CANARIAS                N                         No   \n",
              "3167             CATALUÑA                N                         No   \n",
              "3168              GALICIA                N                         No   \n",
              "\n",
              "     SCF_Down_Payment Other_Down_Payment SCF_Promotion_Campaign  \\\n",
              "1                   0                  0                     No   \n",
              "2                   0                  0                     No   \n",
              "3                   0                  0                     No   \n",
              "4                   0                  0                     No   \n",
              "5                   0                  0                     No   \n",
              "...               ...                ...                    ...   \n",
              "3164                0                  0                     No   \n",
              "3165              500                  0                     No   \n",
              "3166                0                  0                     No   \n",
              "3167                0                  0                     No   \n",
              "3168         21074,22                  0                     No   \n",
              "\n",
              "     Other_Promotion_Campaign  \n",
              "1                          No  \n",
              "2                          No  \n",
              "3                          No  \n",
              "4                          No  \n",
              "5                          No  \n",
              "...                       ...  \n",
              "3164                       No  \n",
              "3165                       No  \n",
              "3166                       No  \n",
              "3167                       No  \n",
              "3168                       No  \n",
              "\n",
              "[3168 rows x 7 columns]"
            ]
          },
          "execution_count": 11,
          "metadata": {},
          "output_type": "execute_result"
        }
      ],
      "source": [
        "df_aux1[['CCAA', 'First_Submission', 'Other_Interest_Rate_Higher', 'SCF_Down_Payment', 'Other_Down_Payment', 'SCF_Promotion_Campaign', 'Other_Promotion_Campaign']]"
      ]
    },
    {
      "cell_type": "markdown",
      "metadata": {
        "nteract": {
          "transient": {
            "deleting": false
          }
        }
      },
      "source": [
        "## A function is created to transform them to numerics through _Label Encoder_, and put __new_ after the name of the variable: _name_variable**_new**_"
      ]
    },
    {
      "cell_type": "code",
      "execution_count": 12,
      "metadata": {
        "gather": {
          "logged": 1643118024460
        },
        "jupyter": {
          "outputs_hidden": false,
          "source_hidden": false
        },
        "nteract": {
          "transient": {
            "deleting": false
          }
        }
      },
      "outputs": [],
      "source": [
        "def transform_to_numeric(df:pd.DataFrame, colnames:list):\n",
        "    le = LabelEncoder()\n",
        "    for col in colnames:\n",
        "        df[str(col)+'_New'] = pd.DataFrame(le.fit_transform(df[col]))\n",
        "    return df"
      ]
    },
    {
      "cell_type": "code",
      "execution_count": 13,
      "metadata": {
        "gather": {
          "logged": 1643118024813
        },
        "jupyter": {
          "outputs_hidden": false,
          "source_hidden": false
        },
        "nteract": {
          "transient": {
            "deleting": false
          }
        }
      },
      "outputs": [],
      "source": [
        "cols_to_encoder = ['CCAA', 'First_Submission', 'Other_Interest_Rate_Higher', 'SCF_Down_Payment', 'Other_Down_Payment', 'SCF_Promotion_Campaign', 'Other_Promotion_Campaign']\n",
        "df_aux1 = transform_to_numeric(df_aux1, cols_to_encoder)\n",
        "df_aux1 = df_aux1[df_aux1.columns[~df_aux1.columns.isin(cols_to_encoder)]]"
      ]
    },
    {
      "cell_type": "markdown",
      "metadata": {
        "nteract": {
          "transient": {
            "deleting": false
          }
        }
      },
      "source": [
        "### It shows how the data of the categorical variables are after the transformation"
      ]
    },
    {
      "cell_type": "code",
      "execution_count": 14,
      "metadata": {
        "gather": {
          "logged": 1643118025244
        },
        "jupyter": {
          "outputs_hidden": false,
          "source_hidden": false
        },
        "nteract": {
          "transient": {
            "deleting": false
          }
        }
      },
      "outputs": [
        {
          "data": {
            "text/html": [
              "<div>\n",
              "<style scoped>\n",
              "    .dataframe tbody tr th:only-of-type {\n",
              "        vertical-align: middle;\n",
              "    }\n",
              "\n",
              "    .dataframe tbody tr th {\n",
              "        vertical-align: top;\n",
              "    }\n",
              "\n",
              "    .dataframe thead th {\n",
              "        text-align: right;\n",
              "    }\n",
              "</style>\n",
              "<table border=\"1\" class=\"dataframe\">\n",
              "  <thead>\n",
              "    <tr style=\"text-align: right;\">\n",
              "      <th></th>\n",
              "      <th>CCAA_New</th>\n",
              "      <th>First_Submission_New</th>\n",
              "      <th>Other_Interest_Rate_Higher_New</th>\n",
              "      <th>SCF_Down_Payment_New</th>\n",
              "      <th>Other_Down_Payment_New</th>\n",
              "      <th>SCF_Promotion_Campaign_New</th>\n",
              "      <th>Other_Promotion_Campaign_New</th>\n",
              "    </tr>\n",
              "  </thead>\n",
              "  <tbody>\n",
              "    <tr>\n",
              "      <th>1</th>\n",
              "      <td>9.0</td>\n",
              "      <td>0.0</td>\n",
              "      <td>1.0</td>\n",
              "      <td>0.0</td>\n",
              "      <td>0.0</td>\n",
              "      <td>0.0</td>\n",
              "      <td>0.0</td>\n",
              "    </tr>\n",
              "    <tr>\n",
              "      <th>2</th>\n",
              "      <td>9.0</td>\n",
              "      <td>0.0</td>\n",
              "      <td>1.0</td>\n",
              "      <td>0.0</td>\n",
              "      <td>0.0</td>\n",
              "      <td>0.0</td>\n",
              "      <td>0.0</td>\n",
              "    </tr>\n",
              "    <tr>\n",
              "      <th>3</th>\n",
              "      <td>6.0</td>\n",
              "      <td>0.0</td>\n",
              "      <td>1.0</td>\n",
              "      <td>0.0</td>\n",
              "      <td>0.0</td>\n",
              "      <td>0.0</td>\n",
              "      <td>0.0</td>\n",
              "    </tr>\n",
              "    <tr>\n",
              "      <th>4</th>\n",
              "      <td>6.0</td>\n",
              "      <td>1.0</td>\n",
              "      <td>1.0</td>\n",
              "      <td>0.0</td>\n",
              "      <td>0.0</td>\n",
              "      <td>0.0</td>\n",
              "      <td>0.0</td>\n",
              "    </tr>\n",
              "    <tr>\n",
              "      <th>5</th>\n",
              "      <td>8.0</td>\n",
              "      <td>1.0</td>\n",
              "      <td>1.0</td>\n",
              "      <td>0.0</td>\n",
              "      <td>0.0</td>\n",
              "      <td>0.0</td>\n",
              "      <td>0.0</td>\n",
              "    </tr>\n",
              "  </tbody>\n",
              "</table>\n",
              "</div>"
            ],
            "text/plain": [
              "   CCAA_New  First_Submission_New  Other_Interest_Rate_Higher_New  \\\n",
              "1       9.0                   0.0                             1.0   \n",
              "2       9.0                   0.0                             1.0   \n",
              "3       6.0                   0.0                             1.0   \n",
              "4       6.0                   1.0                             1.0   \n",
              "5       8.0                   1.0                             1.0   \n",
              "\n",
              "   SCF_Down_Payment_New  Other_Down_Payment_New  SCF_Promotion_Campaign_New  \\\n",
              "1                   0.0                     0.0                         0.0   \n",
              "2                   0.0                     0.0                         0.0   \n",
              "3                   0.0                     0.0                         0.0   \n",
              "4                   0.0                     0.0                         0.0   \n",
              "5                   0.0                     0.0                         0.0   \n",
              "\n",
              "   Other_Promotion_Campaign_New  \n",
              "1                           0.0  \n",
              "2                           0.0  \n",
              "3                           0.0  \n",
              "4                           0.0  \n",
              "5                           0.0  "
            ]
          },
          "execution_count": 14,
          "metadata": {},
          "output_type": "execute_result"
        }
      ],
      "source": [
        "df_aux1[[\"CCAA_New\",\"First_Submission_New\",\"Other_Interest_Rate_Higher_New\",\"SCF_Down_Payment_New\",\"Other_Down_Payment_New\",\"SCF_Promotion_Campaign_New\",\"Other_Promotion_Campaign_New\"]].head()"
      ]
    },
    {
      "cell_type": "markdown",
      "metadata": {
        "nteract": {
          "transient": {
            "deleting": false
          }
        }
      },
      "source": [
        "## The data type of the variables is correctly established\n",
        "\n",
        "**Note**: when loading the data, the data type of each variable was lost\n",
        "\n"
      ]
    },
    {
      "cell_type": "code",
      "execution_count": 15,
      "metadata": {
        "gather": {
          "logged": 1643118025633
        },
        "jupyter": {
          "outputs_hidden": false,
          "source_hidden": false
        },
        "nteract": {
          "transient": {
            "deleting": false
          }
        }
      },
      "outputs": [],
      "source": [
        "df_aux1['SCF_Total_Amount_Financed'] = df_aux1['SCF_Total_Amount_Financed'].str.replace(',','.').astype('float64')\n",
        "df_aux1['Other_Total_Amount_Financed'] = df_aux1['Other_Total_Amount_Financed'].str.replace(',','.').astype('float64')\n",
        "df_aux1['SCF_Interest_Rate'] = df_aux1['SCF_Interest_Rate'].str.replace(',','.').astype('float64')\n",
        "df_aux1['SCF_Borrowing_Term'] = df_aux1['SCF_Borrowing_Term'].str.replace(',','.').astype('int64')\n",
        "df_aux1['Other__Borrowing_Term'] = df_aux1['Other__Borrowing_Term'].str.replace(',','.').astype('float64')\n",
        "df_aux1['Other_Amortization_Term'] = df_aux1['Other_Amortization_Term'].str.replace(',','.').astype('float64')\n",
        "df_aux1['SCF_Monthly_Payment'] = df_aux1['SCF_Monthly_Payment'].str.replace(',','.').astype('float64')\n",
        "df_aux1['SCF_Initial_Credit_Decision_Time_Min'] = df_aux1['SCF_Initial_Credit_Decision_Time_Min'].str.replace(',','.').astype('float64')\n",
        "df_aux1['Other_Initial_Credit_Decision_Time_Min'] = df_aux1['Other_Initial_Credit_Decision_Time_Min'].str.replace(',','.').astype('float64')\n",
        "\n",
        "df_aux1['SCF_Borrowing_Term'] = df_aux1['SCF_Borrowing_Term'].astype('int64')\n",
        "df_aux1['SCF_Amortization_Term'] = df_aux1['SCF_Amortization_Term'].astype('int64')\n",
        "df_aux1['Ind_SCF_Funded'] = df_aux1['Ind_SCF_Funded'].astype('int64')"
      ]
    },
    {
      "cell_type": "markdown",
      "metadata": {
        "nteract": {
          "transient": {
            "deleting": false
          }
        }
      },
      "source": [
        "### The table is shown with the variables in the correct format\n",
        "\n"
      ]
    },
    {
      "cell_type": "code",
      "execution_count": 16,
      "metadata": {
        "gather": {
          "logged": 1643118026175
        },
        "jupyter": {
          "outputs_hidden": false,
          "source_hidden": false
        },
        "nteract": {
          "transient": {
            "deleting": false
          }
        }
      },
      "outputs": [
        {
          "name": "stdout",
          "output_type": "stream",
          "text": [
            "<class 'pandas.core.frame.DataFrame'>\n",
            "RangeIndex: 3168 entries, 1 to 3168\n",
            "Data columns (total 20 columns):\n",
            " #   Column                                  Non-Null Count  Dtype  \n",
            "---  ------                                  --------------  -----  \n",
            " 0   SCF_Total_Amount_Financed               3168 non-null   float64\n",
            " 1   Other_Total_Amount_Financed             3168 non-null   float64\n",
            " 2   SCF_Interest_Rate                       3168 non-null   float64\n",
            " 3   SCF_Borrowing_Term                      3168 non-null   int64  \n",
            " 4   Other__Borrowing_Term                   3063 non-null   float64\n",
            " 5   SCF_Amortization_Term                   3168 non-null   int64  \n",
            " 6   Other_Amortization_Term                 3014 non-null   float64\n",
            " 7   SCF_Monthly_Payment                     3168 non-null   float64\n",
            " 8   SCF_Initial_Credit_Decision_Time_Min    3168 non-null   float64\n",
            " 9   Other_Initial_Credit_Decision_Time_Min  3168 non-null   float64\n",
            " 10  SCF_Funded                              3168 non-null   object \n",
            " 11  Ind_SCF_Funded                          3168 non-null   int64  \n",
            " 12  Mean_Monthly_Payment                    3168 non-null   float64\n",
            " 13  CCAA_New                                3167 non-null   float64\n",
            " 14  First_Submission_New                    3167 non-null   float64\n",
            " 15  Other_Interest_Rate_Higher_New          3167 non-null   float64\n",
            " 16  SCF_Down_Payment_New                    3167 non-null   float64\n",
            " 17  Other_Down_Payment_New                  3167 non-null   float64\n",
            " 18  SCF_Promotion_Campaign_New              3167 non-null   float64\n",
            " 19  Other_Promotion_Campaign_New            3167 non-null   float64\n",
            "dtypes: float64(16), int64(3), object(1)\n",
            "memory usage: 495.1+ KB\n"
          ]
        }
      ],
      "source": [
        "df_aux1.info()"
      ]
    },
    {
      "cell_type": "code",
      "execution_count": 17,
      "metadata": {
        "gather": {
          "logged": 1643118026715
        },
        "jupyter": {
          "outputs_hidden": false,
          "source_hidden": false
        },
        "nteract": {
          "transient": {
            "deleting": false
          }
        }
      },
      "outputs": [
        {
          "data": {
            "text/html": [
              "<div>\n",
              "<style scoped>\n",
              "    .dataframe tbody tr th:only-of-type {\n",
              "        vertical-align: middle;\n",
              "    }\n",
              "\n",
              "    .dataframe tbody tr th {\n",
              "        vertical-align: top;\n",
              "    }\n",
              "\n",
              "    .dataframe thead th {\n",
              "        text-align: right;\n",
              "    }\n",
              "</style>\n",
              "<table border=\"1\" class=\"dataframe\">\n",
              "  <thead>\n",
              "    <tr style=\"text-align: right;\">\n",
              "      <th></th>\n",
              "      <th>SCF_Total_Amount_Financed</th>\n",
              "      <th>Other_Total_Amount_Financed</th>\n",
              "      <th>SCF_Interest_Rate</th>\n",
              "      <th>SCF_Borrowing_Term</th>\n",
              "      <th>Other__Borrowing_Term</th>\n",
              "      <th>SCF_Amortization_Term</th>\n",
              "      <th>Other_Amortization_Term</th>\n",
              "      <th>SCF_Monthly_Payment</th>\n",
              "      <th>SCF_Initial_Credit_Decision_Time_Min</th>\n",
              "      <th>Other_Initial_Credit_Decision_Time_Min</th>\n",
              "      <th>Ind_SCF_Funded</th>\n",
              "      <th>Mean_Monthly_Payment</th>\n",
              "      <th>CCAA_New</th>\n",
              "      <th>First_Submission_New</th>\n",
              "      <th>Other_Interest_Rate_Higher_New</th>\n",
              "      <th>SCF_Down_Payment_New</th>\n",
              "      <th>Other_Down_Payment_New</th>\n",
              "      <th>SCF_Promotion_Campaign_New</th>\n",
              "      <th>Other_Promotion_Campaign_New</th>\n",
              "    </tr>\n",
              "  </thead>\n",
              "  <tbody>\n",
              "    <tr>\n",
              "      <th>count</th>\n",
              "      <td>3168.000000</td>\n",
              "      <td>3168.000000</td>\n",
              "      <td>3168.000000</td>\n",
              "      <td>3168.000000</td>\n",
              "      <td>3063.000000</td>\n",
              "      <td>3168.000000</td>\n",
              "      <td>3014.000000</td>\n",
              "      <td>3168.000000</td>\n",
              "      <td>3168.000000</td>\n",
              "      <td>3168.000000</td>\n",
              "      <td>3168.000000</td>\n",
              "      <td>3168.000000</td>\n",
              "      <td>3167.000000</td>\n",
              "      <td>3167.000000</td>\n",
              "      <td>3167.000000</td>\n",
              "      <td>3167.000000</td>\n",
              "      <td>3167.000000</td>\n",
              "      <td>3167.0</td>\n",
              "      <td>3167.000000</td>\n",
              "    </tr>\n",
              "    <tr>\n",
              "      <th>mean</th>\n",
              "      <td>23979.966170</td>\n",
              "      <td>25968.353339</td>\n",
              "      <td>21.014005</td>\n",
              "      <td>64.761364</td>\n",
              "      <td>74.109696</td>\n",
              "      <td>64.761364</td>\n",
              "      <td>73.988719</td>\n",
              "      <td>589.960813</td>\n",
              "      <td>81.909059</td>\n",
              "      <td>206.404230</td>\n",
              "      <td>0.147096</td>\n",
              "      <td>535.302241</td>\n",
              "      <td>5.044206</td>\n",
              "      <td>0.215977</td>\n",
              "      <td>0.157562</td>\n",
              "      <td>21.652037</td>\n",
              "      <td>23.053994</td>\n",
              "      <td>0.0</td>\n",
              "      <td>0.011999</td>\n",
              "    </tr>\n",
              "    <tr>\n",
              "      <th>std</th>\n",
              "      <td>9069.303993</td>\n",
              "      <td>12045.862121</td>\n",
              "      <td>6.714678</td>\n",
              "      <td>8.536694</td>\n",
              "      <td>11.360996</td>\n",
              "      <td>8.536694</td>\n",
              "      <td>11.430850</td>\n",
              "      <td>135.732859</td>\n",
              "      <td>622.826094</td>\n",
              "      <td>1184.477741</td>\n",
              "      <td>0.354257</td>\n",
              "      <td>159.186306</td>\n",
              "      <td>2.443280</td>\n",
              "      <td>0.411564</td>\n",
              "      <td>0.364388</td>\n",
              "      <td>46.185023</td>\n",
              "      <td>48.575207</td>\n",
              "      <td>0.0</td>\n",
              "      <td>0.108897</td>\n",
              "    </tr>\n",
              "    <tr>\n",
              "      <th>min</th>\n",
              "      <td>542.330000</td>\n",
              "      <td>0.000000</td>\n",
              "      <td>8.990000</td>\n",
              "      <td>12.000000</td>\n",
              "      <td>24.000000</td>\n",
              "      <td>12.000000</td>\n",
              "      <td>24.000000</td>\n",
              "      <td>10.710000</td>\n",
              "      <td>0.100000</td>\n",
              "      <td>0.100000</td>\n",
              "      <td>0.000000</td>\n",
              "      <td>0.000000</td>\n",
              "      <td>0.000000</td>\n",
              "      <td>0.000000</td>\n",
              "      <td>0.000000</td>\n",
              "      <td>0.000000</td>\n",
              "      <td>0.000000</td>\n",
              "      <td>0.0</td>\n",
              "      <td>0.000000</td>\n",
              "    </tr>\n",
              "    <tr>\n",
              "      <th>25%</th>\n",
              "      <td>16694.250000</td>\n",
              "      <td>17631.820000</td>\n",
              "      <td>15.750000</td>\n",
              "      <td>60.000000</td>\n",
              "      <td>72.000000</td>\n",
              "      <td>60.000000</td>\n",
              "      <td>72.000000</td>\n",
              "      <td>533.432500</td>\n",
              "      <td>5.800000</td>\n",
              "      <td>27.200000</td>\n",
              "      <td>0.000000</td>\n",
              "      <td>437.500000</td>\n",
              "      <td>5.000000</td>\n",
              "      <td>0.000000</td>\n",
              "      <td>0.000000</td>\n",
              "      <td>0.000000</td>\n",
              "      <td>0.000000</td>\n",
              "      <td>0.0</td>\n",
              "      <td>0.000000</td>\n",
              "    </tr>\n",
              "    <tr>\n",
              "      <th>50%</th>\n",
              "      <td>22178.390000</td>\n",
              "      <td>25044.050000</td>\n",
              "      <td>20.990000</td>\n",
              "      <td>60.000000</td>\n",
              "      <td>78.000000</td>\n",
              "      <td>60.000000</td>\n",
              "      <td>78.000000</td>\n",
              "      <td>572.585000</td>\n",
              "      <td>10.500000</td>\n",
              "      <td>61.600000</td>\n",
              "      <td>0.000000</td>\n",
              "      <td>512.500000</td>\n",
              "      <td>6.000000</td>\n",
              "      <td>0.000000</td>\n",
              "      <td>0.000000</td>\n",
              "      <td>0.000000</td>\n",
              "      <td>0.000000</td>\n",
              "      <td>0.0</td>\n",
              "      <td>0.000000</td>\n",
              "    </tr>\n",
              "    <tr>\n",
              "      <th>75%</th>\n",
              "      <td>30128.500000</td>\n",
              "      <td>34159.410000</td>\n",
              "      <td>29.500000</td>\n",
              "      <td>72.000000</td>\n",
              "      <td>84.000000</td>\n",
              "      <td>72.000000</td>\n",
              "      <td>84.000000</td>\n",
              "      <td>700.000000</td>\n",
              "      <td>25.925000</td>\n",
              "      <td>120.425000</td>\n",
              "      <td>0.000000</td>\n",
              "      <td>637.500000</td>\n",
              "      <td>6.000000</td>\n",
              "      <td>0.000000</td>\n",
              "      <td>0.000000</td>\n",
              "      <td>0.000000</td>\n",
              "      <td>2.000000</td>\n",
              "      <td>0.0</td>\n",
              "      <td>0.000000</td>\n",
              "    </tr>\n",
              "    <tr>\n",
              "      <th>max</th>\n",
              "      <td>49842.370000</td>\n",
              "      <td>99999.000000</td>\n",
              "      <td>31.900000</td>\n",
              "      <td>84.000000</td>\n",
              "      <td>84.000000</td>\n",
              "      <td>84.000000</td>\n",
              "      <td>84.000000</td>\n",
              "      <td>847.925000</td>\n",
              "      <td>31701.200000</td>\n",
              "      <td>37518.500000</td>\n",
              "      <td>1.000000</td>\n",
              "      <td>1887.500000</td>\n",
              "      <td>9.000000</td>\n",
              "      <td>1.000000</td>\n",
              "      <td>1.000000</td>\n",
              "      <td>173.000000</td>\n",
              "      <td>192.000000</td>\n",
              "      <td>0.0</td>\n",
              "      <td>1.000000</td>\n",
              "    </tr>\n",
              "  </tbody>\n",
              "</table>\n",
              "</div>"
            ],
            "text/plain": [
              "       SCF_Total_Amount_Financed  Other_Total_Amount_Financed  \\\n",
              "count                3168.000000                  3168.000000   \n",
              "mean                23979.966170                 25968.353339   \n",
              "std                  9069.303993                 12045.862121   \n",
              "min                   542.330000                     0.000000   \n",
              "25%                 16694.250000                 17631.820000   \n",
              "50%                 22178.390000                 25044.050000   \n",
              "75%                 30128.500000                 34159.410000   \n",
              "max                 49842.370000                 99999.000000   \n",
              "\n",
              "       SCF_Interest_Rate  SCF_Borrowing_Term  Other__Borrowing_Term  \\\n",
              "count        3168.000000         3168.000000            3063.000000   \n",
              "mean           21.014005           64.761364              74.109696   \n",
              "std             6.714678            8.536694              11.360996   \n",
              "min             8.990000           12.000000              24.000000   \n",
              "25%            15.750000           60.000000              72.000000   \n",
              "50%            20.990000           60.000000              78.000000   \n",
              "75%            29.500000           72.000000              84.000000   \n",
              "max            31.900000           84.000000              84.000000   \n",
              "\n",
              "       SCF_Amortization_Term  Other_Amortization_Term  SCF_Monthly_Payment  \\\n",
              "count            3168.000000              3014.000000          3168.000000   \n",
              "mean               64.761364                73.988719           589.960813   \n",
              "std                 8.536694                11.430850           135.732859   \n",
              "min                12.000000                24.000000            10.710000   \n",
              "25%                60.000000                72.000000           533.432500   \n",
              "50%                60.000000                78.000000           572.585000   \n",
              "75%                72.000000                84.000000           700.000000   \n",
              "max                84.000000                84.000000           847.925000   \n",
              "\n",
              "       SCF_Initial_Credit_Decision_Time_Min  \\\n",
              "count                           3168.000000   \n",
              "mean                              81.909059   \n",
              "std                              622.826094   \n",
              "min                                0.100000   \n",
              "25%                                5.800000   \n",
              "50%                               10.500000   \n",
              "75%                               25.925000   \n",
              "max                            31701.200000   \n",
              "\n",
              "       Other_Initial_Credit_Decision_Time_Min  Ind_SCF_Funded  \\\n",
              "count                             3168.000000     3168.000000   \n",
              "mean                               206.404230        0.147096   \n",
              "std                               1184.477741        0.354257   \n",
              "min                                  0.100000        0.000000   \n",
              "25%                                 27.200000        0.000000   \n",
              "50%                                 61.600000        0.000000   \n",
              "75%                                120.425000        0.000000   \n",
              "max                              37518.500000        1.000000   \n",
              "\n",
              "       Mean_Monthly_Payment     CCAA_New  First_Submission_New  \\\n",
              "count           3168.000000  3167.000000           3167.000000   \n",
              "mean             535.302241     5.044206              0.215977   \n",
              "std              159.186306     2.443280              0.411564   \n",
              "min                0.000000     0.000000              0.000000   \n",
              "25%              437.500000     5.000000              0.000000   \n",
              "50%              512.500000     6.000000              0.000000   \n",
              "75%              637.500000     6.000000              0.000000   \n",
              "max             1887.500000     9.000000              1.000000   \n",
              "\n",
              "       Other_Interest_Rate_Higher_New  SCF_Down_Payment_New  \\\n",
              "count                     3167.000000           3167.000000   \n",
              "mean                         0.157562             21.652037   \n",
              "std                          0.364388             46.185023   \n",
              "min                          0.000000              0.000000   \n",
              "25%                          0.000000              0.000000   \n",
              "50%                          0.000000              0.000000   \n",
              "75%                          0.000000              0.000000   \n",
              "max                          1.000000            173.000000   \n",
              "\n",
              "       Other_Down_Payment_New  SCF_Promotion_Campaign_New  \\\n",
              "count             3167.000000                      3167.0   \n",
              "mean                23.053994                         0.0   \n",
              "std                 48.575207                         0.0   \n",
              "min                  0.000000                         0.0   \n",
              "25%                  0.000000                         0.0   \n",
              "50%                  0.000000                         0.0   \n",
              "75%                  2.000000                         0.0   \n",
              "max                192.000000                         0.0   \n",
              "\n",
              "       Other_Promotion_Campaign_New  \n",
              "count                   3167.000000  \n",
              "mean                       0.011999  \n",
              "std                        0.108897  \n",
              "min                        0.000000  \n",
              "25%                        0.000000  \n",
              "50%                        0.000000  \n",
              "75%                        0.000000  \n",
              "max                        1.000000  "
            ]
          },
          "execution_count": 17,
          "metadata": {},
          "output_type": "execute_result"
        }
      ],
      "source": [
        "df_aux1.describe()"
      ]
    },
    {
      "cell_type": "code",
      "execution_count": 18,
      "metadata": {
        "gather": {
          "logged": 1643118027177
        },
        "jupyter": {
          "outputs_hidden": false,
          "source_hidden": false
        },
        "nteract": {
          "transient": {
            "deleting": false
          }
        }
      },
      "outputs": [
        {
          "name": "stdout",
          "output_type": "stream",
          "text": [
            "<class 'pandas.core.frame.DataFrame'>\n",
            "RangeIndex: 3168 entries, 1 to 3168\n",
            "Data columns (total 20 columns):\n",
            " #   Column                                  Non-Null Count  Dtype  \n",
            "---  ------                                  --------------  -----  \n",
            " 0   SCF_Total_Amount_Financed               3168 non-null   float64\n",
            " 1   Other_Total_Amount_Financed             3168 non-null   float64\n",
            " 2   SCF_Interest_Rate                       3168 non-null   float64\n",
            " 3   SCF_Borrowing_Term                      3168 non-null   int64  \n",
            " 4   Other__Borrowing_Term                   3063 non-null   float64\n",
            " 5   SCF_Amortization_Term                   3168 non-null   int64  \n",
            " 6   Other_Amortization_Term                 3014 non-null   float64\n",
            " 7   SCF_Monthly_Payment                     3168 non-null   float64\n",
            " 8   SCF_Initial_Credit_Decision_Time_Min    3168 non-null   float64\n",
            " 9   Other_Initial_Credit_Decision_Time_Min  3168 non-null   float64\n",
            " 10  SCF_Funded                              3168 non-null   object \n",
            " 11  Ind_SCF_Funded                          3168 non-null   int64  \n",
            " 12  Mean_Monthly_Payment                    3168 non-null   float64\n",
            " 13  CCAA_New                                3167 non-null   float64\n",
            " 14  First_Submission_New                    3167 non-null   float64\n",
            " 15  Other_Interest_Rate_Higher_New          3167 non-null   float64\n",
            " 16  SCF_Down_Payment_New                    3167 non-null   float64\n",
            " 17  Other_Down_Payment_New                  3167 non-null   float64\n",
            " 18  SCF_Promotion_Campaign_New              3167 non-null   float64\n",
            " 19  Other_Promotion_Campaign_New            3167 non-null   float64\n",
            "dtypes: float64(16), int64(3), object(1)\n",
            "memory usage: 495.1+ KB\n"
          ]
        }
      ],
      "source": [
        "df_aux1.info()"
      ]
    },
    {
      "cell_type": "markdown",
      "metadata": {
        "nteract": {
          "transient": {
            "deleting": false
          }
        }
      },
      "source": [
        "The pyod library is used for outlier detection.\n",
        "\n",
        "\n",
        "from pyod.models.knn import KNN\n",
        "clf = KNN(contamination=0.18)\n",
        "clf.fit(df_aux1)\n",
        "y_pred = clf.predict(df_aux1)\n",
        "df_aux1[y_pred ==1]"
      ]
    },
    {
      "cell_type": "markdown",
      "metadata": {
        "nteract": {
          "transient": {
            "deleting": false
          }
        }
      },
      "source": [
        "### Treatment of **Null Values**"
      ]
    },
    {
      "cell_type": "markdown",
      "metadata": {
        "nteract": {
          "transient": {
            "deleting": false
          }
        }
      },
      "source": [
        "*Note*: There are 266 null values, but they do not exceed 5% of the data in any of the columns, with most columns having null values ​​around 0.03% of the total data.\n",
        "\n",
        "Missing values ​​are therefore replaced by the median."
      ]
    },
    {
      "cell_type": "code",
      "execution_count": 19,
      "metadata": {
        "gather": {
          "logged": 1643118027565
        },
        "jupyter": {
          "outputs_hidden": false,
          "source_hidden": false
        },
        "nteract": {
          "transient": {
            "deleting": false
          }
        }
      },
      "outputs": [
        {
          "name": "stdout",
          "output_type": "stream",
          "text": [
            "Número de valores nulos: 266 en columnas: ['Other__Borrowing_Term', 'Other_Amortization_Term', 'CCAA_New', 'First_Submission_New', 'Other_Interest_Rate_Higher_New', 'SCF_Down_Payment_New', 'Other_Down_Payment_New', 'SCF_Promotion_Campaign_New', 'Other_Promotion_Campaign_New'] \n",
            " \n",
            "El número de nulos de cada columna es:\n",
            "                                       0\n",
            "Other__Borrowing_Term           105\n",
            "Other_Amortization_Term         154\n",
            "CCAA_New                          1\n",
            "First_Submission_New              1\n",
            "Other_Interest_Rate_Higher_New    1\n",
            "SCF_Down_Payment_New              1\n",
            "Other_Down_Payment_New            1\n",
            "SCF_Promotion_Campaign_New        1\n",
            "Other_Promotion_Campaign_New      1 \n",
            " \n",
            "     Cuyo % de nulos del total es: \n",
            "     Other__Borrowing_Term             3.314\n",
            "Other_Amortization_Term           4.861\n",
            "CCAA_New                          0.032\n",
            "First_Submission_New              0.032\n",
            "Other_Interest_Rate_Higher_New    0.032\n",
            "SCF_Down_Payment_New              0.032\n",
            "Other_Down_Payment_New            0.032\n",
            "SCF_Promotion_Campaign_New        0.032\n",
            "Other_Promotion_Campaign_New      0.032\n",
            "dtype: float64\n"
          ]
        }
      ],
      "source": [
        "if df_aux1.isnull().values.any():\n",
        "    print(f'Número de valores nulos: {df_aux1.isnull().values.sum()} en columnas: {list(df_aux1.columns[df_aux1.isnull().any()])} \\n ')\n",
        "    print(f'El número de nulos de cada columna es:\\n \\\n",
        "    {pd.DataFrame(df_aux1[df_aux1.columns[df_aux1.isnull().any()]].isnull().sum())} \\n \\n \\\n",
        "    Cuyo % de nulos del total es: \\n \\\n",
        "    {(df_aux1[df_aux1.columns[df_aux1.isnull().any()]].isnull().sum()*100/len(df_aux1)).round(3)}')\n",
        "else:\n",
        "    print('No hay nulos')"
      ]
    },
    {
      "cell_type": "markdown",
      "metadata": {
        "nteract": {
          "transient": {
            "deleting": false
          }
        }
      },
      "source": [
        "#### Perform a function to replace null values ​​with the median"
      ]
    },
    {
      "cell_type": "code",
      "execution_count": 20,
      "metadata": {
        "gather": {
          "logged": 1643118027947
        },
        "jupyter": {
          "outputs_hidden": false,
          "source_hidden": false
        },
        "nteract": {
          "transient": {
            "deleting": false
          }
        }
      },
      "outputs": [],
      "source": [
        "def remplace_nulls(df_aux, cols:list):\n",
        "    for col in cols:\n",
        "        df_aux[col] = df_aux[col].fillna(df_aux[col].median())\n",
        "    return df_aux"
      ]
    },
    {
      "cell_type": "markdown",
      "metadata": {
        "nteract": {
          "transient": {
            "deleting": false
          }
        }
      },
      "source": [
        "#### The number of nulls in the data set after processing is displayed"
      ]
    },
    {
      "cell_type": "code",
      "execution_count": 21,
      "metadata": {
        "gather": {
          "logged": 1643118028328
        },
        "jupyter": {
          "outputs_hidden": false,
          "source_hidden": false
        },
        "nteract": {
          "transient": {
            "deleting": false
          }
        }
      },
      "outputs": [
        {
          "name": "stdout",
          "output_type": "stream",
          "text": [
            "Número de nulos en el dataset: 0\n"
          ]
        }
      ],
      "source": [
        "df_aux1 = remplace_nulls(df_aux1, list(df_aux1.columns[df_aux1.isnull().any()]))\n",
        "print(f'Número de nulos en el dataset: {df_aux1.isnull().any().sum()}')"
      ]
    },
    {
      "cell_type": "markdown",
      "metadata": {
        "nteract": {
          "transient": {
            "deleting": false
          }
        }
      },
      "source": [
        "## The influence of some variables with respect to the class is studied\n",
        "\n"
      ]
    },
    {
      "cell_type": "code",
      "execution_count": 22,
      "metadata": {
        "gather": {
          "logged": 1643118028752
        },
        "jupyter": {
          "outputs_hidden": false,
          "source_hidden": false
        },
        "nteract": {
          "transient": {
            "deleting": false
          }
        }
      },
      "outputs": [
        {
          "data": {
            "text/html": [
              "<div>\n",
              "<style scoped>\n",
              "    .dataframe tbody tr th:only-of-type {\n",
              "        vertical-align: middle;\n",
              "    }\n",
              "\n",
              "    .dataframe tbody tr th {\n",
              "        vertical-align: top;\n",
              "    }\n",
              "\n",
              "    .dataframe thead tr th {\n",
              "        text-align: left;\n",
              "    }\n",
              "\n",
              "    .dataframe thead tr:last-of-type th {\n",
              "        text-align: right;\n",
              "    }\n",
              "</style>\n",
              "<table border=\"1\" class=\"dataframe\">\n",
              "  <thead>\n",
              "    <tr>\n",
              "      <th></th>\n",
              "      <th colspan=\"2\" halign=\"left\">SCF_Total_Amount_Financed</th>\n",
              "    </tr>\n",
              "    <tr>\n",
              "      <th></th>\n",
              "      <th>mean</th>\n",
              "      <th>count</th>\n",
              "    </tr>\n",
              "    <tr>\n",
              "      <th>Ind_SCF_Funded</th>\n",
              "      <th></th>\n",
              "      <th></th>\n",
              "    </tr>\n",
              "  </thead>\n",
              "  <tbody>\n",
              "    <tr>\n",
              "      <th>0</th>\n",
              "      <td>23496.027143</td>\n",
              "      <td>2702</td>\n",
              "    </tr>\n",
              "    <tr>\n",
              "      <th>1</th>\n",
              "      <td>26785.981730</td>\n",
              "      <td>466</td>\n",
              "    </tr>\n",
              "  </tbody>\n",
              "</table>\n",
              "</div>"
            ],
            "text/plain": [
              "               SCF_Total_Amount_Financed      \n",
              "                                    mean count\n",
              "Ind_SCF_Funded                                \n",
              "0                           23496.027143  2702\n",
              "1                           26785.981730   466"
            ]
          },
          "execution_count": 22,
          "metadata": {},
          "output_type": "execute_result"
        }
      ],
      "source": [
        "df_aux1[['SCF_Total_Amount_Financed', 'Ind_SCF_Funded']].groupby(['Ind_SCF_Funded'], as_index=False).agg(['mean', 'count'])\n"
      ]
    },
    {
      "cell_type": "markdown",
      "metadata": {
        "nteract": {
          "transient": {
            "deleting": false
          }
        }
      },
      "source": [
        "#### The values ​​of the variable _SCF_Total_Amount_Financed_ are displayed, and for these values, to which class they belong\n",
        "\n"
      ]
    },
    {
      "cell_type": "code",
      "execution_count": 23,
      "metadata": {
        "gather": {
          "logged": 1643118029142
        },
        "jupyter": {
          "outputs_hidden": false,
          "source_hidden": false
        },
        "nteract": {
          "transient": {
            "deleting": false
          }
        }
      },
      "outputs": [],
      "source": [
        "f1 = df_aux1['SCF_Total_Amount_Financed'].values\n",
        "f2 = df_aux1.index\n",
        " \n",
        "colores = ['orange','blue']\n",
        " \n",
        "asignar=[]\n",
        "for index, row in df_aux1.iterrows():    \n",
        "        asignar.append(colores[row['Ind_SCF_Funded']])\n",
        " \n"
      ]
    },
    {
      "cell_type": "code",
      "execution_count": 24,
      "metadata": {
        "gather": {
          "logged": 1643118029550
        },
        "jupyter": {
          "outputs_hidden": false,
          "source_hidden": false
        },
        "nteract": {
          "transient": {
            "deleting": false
          }
        }
      },
      "outputs": [
        {
          "data": {
            "image/png": "[encoded data removed]",
            "text/plain": [
              "<Figure size 432x288 with 1 Axes>"
            ]
          },
          "metadata": {
            "needs_background": "light"
          },
          "output_type": "display_data"
        }
      ],
      "source": [
        "plt.scatter(f1, f2, c=asignar, s=30)\n",
        "plt.axis([23496,26496,0,650])\n",
        "plt.show()"
      ]
    },
    {
      "cell_type": "markdown",
      "metadata": {
        "nteract": {
          "transient": {
            "deleting": false
          }
        }
      },
      "source": [
        "### Correlation of variables\n",
        "\n",
        "The correlation between the variables is studied in order to see which ones are highly correlated and do not provide additional information to the data."
      ]
    },
    {
      "cell_type": "code",
      "execution_count": 25,
      "metadata": {
        "gather": {
          "logged": 1643118029926
        },
        "jupyter": {
          "outputs_hidden": false,
          "source_hidden": false
        },
        "nteract": {
          "transient": {
            "deleting": false
          }
        }
      },
      "outputs": [],
      "source": [
        "corr_matrix = df_aux1.corr(method='pearson').round(3)"
      ]
    },
    {
      "cell_type": "code",
      "execution_count": 26,
      "metadata": {
        "gather": {
          "logged": 1643118030409
        },
        "jupyter": {
          "outputs_hidden": false,
          "source_hidden": false
        },
        "nteract": {
          "transient": {
            "deleting": false
          }
        }
      },
      "outputs": [
        {
          "data": {
            "text/plain": [
              "Text(0.5, 1.0, 'Correlación de variables')"
            ]
          },
          "execution_count": 26,
          "metadata": {},
          "output_type": "execute_result"
        },
        {
          "data": {
            "image/png": "[encoded data removed]",
            "text/plain": [
              "<Figure size 1080x1080 with 2 Axes>"
            ]
          },
          "metadata": {
            "needs_background": "light"
          },
          "output_type": "display_data"
        }
      ],
      "source": [
        "fig, ax = plt.subplots(figsize=(15,15))\n",
        "sns.heatmap(corr_matrix, annot=True, linewidths=-4, ax=ax)\n",
        "plt.title(\"Correlación de variables\")"
      ]
    },
    {
      "cell_type": "markdown",
      "metadata": {
        "nteract": {
          "transient": {
            "deleting": false
          }
        }
      },
      "source": [
        "#### The values ​​are ordered from highest to lowest correlation, and the pairs of variables with the highest positive correlation are displayed\n",
        "*Note*: this means that the growth of one of the variables implies the growth of the other, that is, that\n",
        "the values ​​of both variables tend to increase together.\n",
        "\n"
      ]
    },
    {
      "cell_type": "code",
      "execution_count": 27,
      "metadata": {
        "gather": {
          "logged": 1643118030845
        },
        "jupyter": {
          "outputs_hidden": false,
          "source_hidden": false
        },
        "nteract": {
          "transient": {
            "deleting": false
          }
        }
      },
      "outputs": [],
      "source": [
        "corr_values = corr_matrix.unstack().sort_values(kind=\"quicksort\")"
      ]
    },
    {
      "cell_type": "code",
      "execution_count": 28,
      "metadata": {
        "gather": {
          "logged": 1643118031298
        },
        "jupyter": {
          "outputs_hidden": false,
          "source_hidden": false
        },
        "nteract": {
          "transient": {
            "deleting": false
          }
        }
      },
      "outputs": [
        {
          "data": {
            "text/plain": [
              "Other_Promotion_Campaign_New            Other_Promotion_Campaign_New              1.000\n",
              "SCF_Amortization_Term                   SCF_Amortization_Term                     1.000\n",
              "SCF_Total_Amount_Financed               SCF_Total_Amount_Financed                 1.000\n",
              "SCF_Down_Payment_New                    SCF_Down_Payment_New                      1.000\n",
              "Other_Total_Amount_Financed             Other_Total_Amount_Financed               1.000\n",
              "SCF_Interest_Rate                       SCF_Interest_Rate                         1.000\n",
              "SCF_Borrowing_Term                      SCF_Borrowing_Term                        1.000\n",
              "                                        SCF_Amortization_Term                     1.000\n",
              "SCF_Monthly_Payment                     SCF_Monthly_Payment                       1.000\n",
              "SCF_Amortization_Term                   SCF_Borrowing_Term                        1.000\n",
              "Other__Borrowing_Term                   Other__Borrowing_Term                     1.000\n",
              "Other_Down_Payment_New                  Other_Down_Payment_New                    1.000\n",
              "Other_Amortization_Term                 Other_Amortization_Term                   1.000\n",
              "SCF_Initial_Credit_Decision_Time_Min    SCF_Initial_Credit_Decision_Time_Min      1.000\n",
              "Other_Initial_Credit_Decision_Time_Min  Other_Initial_Credit_Decision_Time_Min    1.000\n",
              "Ind_SCF_Funded                          Ind_SCF_Funded                            1.000\n",
              "Mean_Monthly_Payment                    Mean_Monthly_Payment                      1.000\n",
              "CCAA_New                                CCAA_New                                  1.000\n",
              "First_Submission_New                    First_Submission_New                      1.000\n",
              "Other_Interest_Rate_Higher_New          Other_Interest_Rate_Higher_New            1.000\n",
              "Other__Borrowing_Term                   Other_Amortization_Term                   0.988\n",
              "Other_Amortization_Term                 Other__Borrowing_Term                     0.988\n",
              "SCF_Monthly_Payment                     SCF_Total_Amount_Financed                 0.877\n",
              "SCF_Total_Amount_Financed               SCF_Monthly_Payment                       0.877\n",
              "Mean_Monthly_Payment                    Other_Total_Amount_Financed               0.704\n",
              "Other_Total_Amount_Financed             Mean_Monthly_Payment                      0.704\n",
              "dtype: float64"
            ]
          },
          "execution_count": 28,
          "metadata": {},
          "output_type": "execute_result"
        }
      ],
      "source": [
        "corr_values[corr_values > 0.6].sort_values(ascending=False)"
      ]
    },
    {
      "cell_type": "markdown",
      "metadata": {
        "nteract": {
          "transient": {
            "deleting": false
          }
        }
      },
      "source": [
        "#### The pairs of variables with the highest negative correlation are also shown\n",
        "*Note*: means that the values ​​of one variable tend to increase while the values ​​of the other variable decrease."
      ]
    },
    {
      "cell_type": "code",
      "execution_count": 29,
      "metadata": {
        "gather": {
          "logged": 1643118031767
        },
        "jupyter": {
          "outputs_hidden": false,
          "source_hidden": false
        },
        "nteract": {
          "transient": {
            "deleting": false
          }
        }
      },
      "outputs": [
        {
          "data": {
            "text/plain": [
              "SCF_Total_Amount_Financed  SCF_Interest_Rate           -0.794\n",
              "SCF_Interest_Rate          SCF_Total_Amount_Financed   -0.794\n",
              "dtype: float64"
            ]
          },
          "execution_count": 29,
          "metadata": {},
          "output_type": "execute_result"
        }
      ],
      "source": [
        "corr_values[corr_values < -0.6]"
      ]
    },
    {
      "cell_type": "markdown",
      "metadata": {
        "nteract": {
          "transient": {
            "deleting": false
          }
        }
      },
      "source": [
        "#### Of the highly correlated variables (both positively and negatively), the variance of each one is calculated, in order to eliminate the one that provides the least relevant information\n",
        "\n"
      ]
    },
    {
      "cell_type": "code",
      "execution_count": 30,
      "metadata": {
        "gather": {
          "logged": 1643118032377
        },
        "jupyter": {
          "outputs_hidden": false,
          "source_hidden": false
        },
        "nteract": {
          "transient": {
            "deleting": false
          }
        }
      },
      "outputs": [
        {
          "data": {
            "text/plain": [
              "125.27805207107109"
            ]
          },
          "execution_count": 30,
          "metadata": {},
          "output_type": "execute_result"
        }
      ],
      "source": [
        "df_aux1['Other__Borrowing_Term'].var()"
      ]
    },
    {
      "cell_type": "code",
      "execution_count": 31,
      "metadata": {
        "gather": {
          "logged": 1643118032914
        },
        "jupyter": {
          "outputs_hidden": false,
          "source_hidden": false
        },
        "nteract": {
          "transient": {
            "deleting": false
          }
        }
      },
      "outputs": [
        {
          "data": {
            "text/html": [
              "<div>\n",
              "<style scoped>\n",
              "    .dataframe tbody tr th:only-of-type {\n",
              "        vertical-align: middle;\n",
              "    }\n",
              "\n",
              "    .dataframe tbody tr th {\n",
              "        vertical-align: top;\n",
              "    }\n",
              "\n",
              "    .dataframe thead th {\n",
              "        text-align: right;\n",
              "    }\n",
              "</style>\n",
              "<table border=\"1\" class=\"dataframe\">\n",
              "  <thead>\n",
              "    <tr style=\"text-align: right;\">\n",
              "      <th></th>\n",
              "      <th>Other__Borrowing_Term</th>\n",
              "      <th>Other_Amortization_Term</th>\n",
              "    </tr>\n",
              "  </thead>\n",
              "  <tbody>\n",
              "    <tr>\n",
              "      <th>count</th>\n",
              "      <td>3168.000000</td>\n",
              "      <td>3168.000000</td>\n",
              "    </tr>\n",
              "    <tr>\n",
              "      <th>mean</th>\n",
              "      <td>74.238636</td>\n",
              "      <td>74.183712</td>\n",
              "    </tr>\n",
              "    <tr>\n",
              "      <th>std</th>\n",
              "      <td>11.192768</td>\n",
              "      <td>11.182798</td>\n",
              "    </tr>\n",
              "    <tr>\n",
              "      <th>min</th>\n",
              "      <td>24.000000</td>\n",
              "      <td>24.000000</td>\n",
              "    </tr>\n",
              "    <tr>\n",
              "      <th>25%</th>\n",
              "      <td>72.000000</td>\n",
              "      <td>72.000000</td>\n",
              "    </tr>\n",
              "    <tr>\n",
              "      <th>50%</th>\n",
              "      <td>78.000000</td>\n",
              "      <td>78.000000</td>\n",
              "    </tr>\n",
              "    <tr>\n",
              "      <th>75%</th>\n",
              "      <td>84.000000</td>\n",
              "      <td>84.000000</td>\n",
              "    </tr>\n",
              "    <tr>\n",
              "      <th>max</th>\n",
              "      <td>84.000000</td>\n",
              "      <td>84.000000</td>\n",
              "    </tr>\n",
              "  </tbody>\n",
              "</table>\n",
              "</div>"
            ],
            "text/plain": [
              "       Other__Borrowing_Term  Other_Amortization_Term\n",
              "count            3168.000000              3168.000000\n",
              "mean               74.238636                74.183712\n",
              "std                11.192768                11.182798\n",
              "min                24.000000                24.000000\n",
              "25%                72.000000                72.000000\n",
              "50%                78.000000                78.000000\n",
              "75%                84.000000                84.000000\n",
              "max                84.000000                84.000000"
            ]
          },
          "execution_count": 31,
          "metadata": {},
          "output_type": "execute_result"
        }
      ],
      "source": [
        "df_aux1[['Other__Borrowing_Term', 'Other_Amortization_Term']].describe()"
      ]
    },
    {
      "cell_type": "code",
      "execution_count": 32,
      "metadata": {
        "gather": {
          "logged": 1643118034585
        },
        "jupyter": {
          "outputs_hidden": false,
          "source_hidden": false
        },
        "nteract": {
          "transient": {
            "deleting": false
          }
        }
      },
      "outputs": [
        {
          "data": {
            "text/html": [
              "<div>\n",
              "<style scoped>\n",
              "    .dataframe tbody tr th:only-of-type {\n",
              "        vertical-align: middle;\n",
              "    }\n",
              "\n",
              "    .dataframe tbody tr th {\n",
              "        vertical-align: top;\n",
              "    }\n",
              "\n",
              "    .dataframe thead th {\n",
              "        text-align: right;\n",
              "    }\n",
              "</style>\n",
              "<table border=\"1\" class=\"dataframe\">\n",
              "  <thead>\n",
              "    <tr style=\"text-align: right;\">\n",
              "      <th></th>\n",
              "      <th>Other__Borrowing_Term</th>\n",
              "      <th>Other_Amortization_Term</th>\n",
              "    </tr>\n",
              "  </thead>\n",
              "  <tbody>\n",
              "    <tr>\n",
              "      <th>11</th>\n",
              "      <td>84.0</td>\n",
              "      <td>78.0</td>\n",
              "    </tr>\n",
              "    <tr>\n",
              "      <th>12</th>\n",
              "      <td>84.0</td>\n",
              "      <td>72.0</td>\n",
              "    </tr>\n",
              "    <tr>\n",
              "      <th>17</th>\n",
              "      <td>60.0</td>\n",
              "      <td>48.0</td>\n",
              "    </tr>\n",
              "    <tr>\n",
              "      <th>20</th>\n",
              "      <td>60.0</td>\n",
              "      <td>78.0</td>\n",
              "    </tr>\n",
              "    <tr>\n",
              "      <th>33</th>\n",
              "      <td>72.0</td>\n",
              "      <td>60.0</td>\n",
              "    </tr>\n",
              "    <tr>\n",
              "      <th>...</th>\n",
              "      <td>...</td>\n",
              "      <td>...</td>\n",
              "    </tr>\n",
              "    <tr>\n",
              "      <th>425</th>\n",
              "      <td>72.0</td>\n",
              "      <td>78.0</td>\n",
              "    </tr>\n",
              "    <tr>\n",
              "      <th>436</th>\n",
              "      <td>72.0</td>\n",
              "      <td>78.0</td>\n",
              "    </tr>\n",
              "    <tr>\n",
              "      <th>456</th>\n",
              "      <td>84.0</td>\n",
              "      <td>78.0</td>\n",
              "    </tr>\n",
              "    <tr>\n",
              "      <th>462</th>\n",
              "      <td>72.0</td>\n",
              "      <td>78.0</td>\n",
              "    </tr>\n",
              "    <tr>\n",
              "      <th>465</th>\n",
              "      <td>72.0</td>\n",
              "      <td>78.0</td>\n",
              "    </tr>\n",
              "  </tbody>\n",
              "</table>\n",
              "<p>62 rows × 2 columns</p>\n",
              "</div>"
            ],
            "text/plain": [
              "     Other__Borrowing_Term  Other_Amortization_Term\n",
              "11                    84.0                     78.0\n",
              "12                    84.0                     72.0\n",
              "17                    60.0                     48.0\n",
              "20                    60.0                     78.0\n",
              "33                    72.0                     60.0\n",
              "..                     ...                      ...\n",
              "425                   72.0                     78.0\n",
              "436                   72.0                     78.0\n",
              "456                   84.0                     78.0\n",
              "462                   72.0                     78.0\n",
              "465                   72.0                     78.0\n",
              "\n",
              "[62 rows x 2 columns]"
            ]
          },
          "execution_count": 32,
          "metadata": {},
          "output_type": "execute_result"
        }
      ],
      "source": [
        "df_aux1[['Other__Borrowing_Term','Other_Amortization_Term']][(df_aux1['Other__Borrowing_Term']-df_aux1['Other_Amortization_Term'])!=0] "
      ]
    },
    {
      "cell_type": "markdown",
      "metadata": {
        "nteract": {
          "transient": {
            "deleting": false
          }
        }
      },
      "source": [
        "### A table is displayed with the decisions made regarding the correlation matrix"
      ]
    },
    {
      "cell_type": "markdown",
      "metadata": {
        "nteract": {
          "transient": {
            "deleting": false
          }
        }
      },
      "source": [
        "Variable to be deleted | Decision\n",
        "---|---\n",
        "SCF_Borrowing_Term  -  SCF_Amortization_Term : 1                 | deletion SCF_Amortization \n",
        "Other_Monthly_Payment | is a range variable, two additional columns were made with the minimum value and the maximum value, and the correlation between both is 1, since the range is the same value, so it was decided to create a new varaible to replace this one and whose value is the average of the range\n",
        "Other_Amortization_Term - Other__Borrowing_Term : 0.988          | deletion Other_Amortization_Term (because it has more std)\n",
        "SCF_Funded_New - Ind_SCF_Funded : -1.000 by label encoder)  | deletion SCF_Funded_New\n",
        "SCF_Total_Amount_Financed :  SCF_Monthly_Payment : 0.877         | It is calculated the correlation between the two with the log neperian (the decision was made no to delete, because it lowers the correlation to 0).739)\n",
        "SCF_Total_Amount_Financed - SCF_Interest_Rate : -0.794 |"
      ]
    },
    {
      "cell_type": "markdown",
      "metadata": {
        "nteract": {
          "transient": {
            "deleting": false
          }
        }
      },
      "source": [
        "### Class balancing\n",
        "A study is carried out to see the number of instances belonging to each class, to see if there is inequality between classes"
      ]
    },
    {
      "cell_type": "code",
      "execution_count": 33,
      "metadata": {
        "gather": {
          "logged": 1643118035981
        },
        "jupyter": {
          "outputs_hidden": false,
          "source_hidden": false
        },
        "nteract": {
          "transient": {
            "deleting": false
          }
        }
      },
      "outputs": [
        {
          "data": {
            "text/plain": [
              "0    2702\n",
              "1     466\n",
              "Name: Ind_SCF_Funded, dtype: int64"
            ]
          },
          "execution_count": 33,
          "metadata": {},
          "output_type": "execute_result"
        }
      ],
      "source": [
        "df_aux1.Ind_SCF_Funded.value_counts() "
      ]
    },
    {
      "cell_type": "code",
      "execution_count": 34,
      "metadata": {
        "gather": {
          "logged": 1643118036764
        },
        "jupyter": {
          "outputs_hidden": false,
          "source_hidden": false
        },
        "nteract": {
          "transient": {
            "deleting": false
          }
        }
      },
      "outputs": [
        {
          "name": "stdout",
          "output_type": "stream",
          "text": [
            "El % de instancias para cada clase:\n",
            " 0    85.290404\n",
            "1    14.709596\n",
            "Name: Ind_SCF_Funded, dtype: float64\n"
          ]
        }
      ],
      "source": [
        "print(f'El % de instancias para cada clase:\\n {df_aux1.Ind_SCF_Funded.value_counts(normalize = True)*100}')"
      ]
    },
    {
      "cell_type": "code",
      "execution_count": 35,
      "metadata": {
        "gather": {
          "logged": 1643118037450
        },
        "jupyter": {
          "outputs_hidden": false,
          "source_hidden": false
        },
        "nteract": {
          "transient": {
            "deleting": false
          }
        }
      },
      "outputs": [
        {
          "data": {
            "text/plain": [
              "<matplotlib.axes._subplots.AxesSubplot at 0x7fec31ecfc10>"
            ]
          },
          "execution_count": 35,
          "metadata": {},
          "output_type": "execute_result"
        },
        {
          "data": {
            "image/png": "[encoded data removed]",
            "text/plain": [
              "<Figure size 432x288 with 1 Axes>"
            ]
          },
          "metadata": {
            "needs_background": "light"
          },
          "output_type": "display_data"
        }
      ],
      "source": [
        "var = df_aux1['SCF_Funded'].value_counts()\n",
        "var.plot(kind=\"bar\")"
      ]
    },
    {
      "cell_type": "markdown",
      "metadata": {
        "nteract": {
          "transient": {
            "deleting": false
          }
        }
      },
      "source": [
        "**Decisions for class imbalance:**\n",
        "1. Model parameter setting:\n",
        "    - Within the algorithm itself\n",
        "        - (weight adjustment on trees), minority class balance\n",
        "            logisticregression: parameter class_weight= “balanced”\n",
        "            \n",
        "  \n",
        "2. Modification of the dataset:\n",
        "       - Remove samples from the majority class to balance\n",
        "            Problem: loss of important samples and information\n",
        "            Solution: Criteria for removal\n",
        "       - Add new rows with minority class values\n",
        "            Problem: the model can fall into Overfitting\n",
        "            \n",
        "            \n",
        "3. Create artificial or synthetic samples:\n",
        "    - Create synthetic samples (not identical) using various algorithms that try to follow the trend of the minority group.\n",
        "        Problem: you can alter the natural distribution of the class and confuse the algorithm in the classification\n",
        "            \n",
        "            \n",
        "4.Balanced Ensemble Methods:\n",
        "    - Train various models and together obtain the final result (e.g. with vote). Makes sure to take balanced training samples\n",
        "\n"
      ]
    },
    {
      "cell_type": "code",
      "execution_count": 36,
      "metadata": {
        "gather": {
          "logged": 1643118038095
        },
        "jupyter": {
          "outputs_hidden": false,
          "source_hidden": false
        },
        "nteract": {
          "transient": {
            "deleting": false
          }
        }
      },
      "outputs": [],
      "source": [
        "df_aux1 = df_aux1[df_aux1.columns[~df_aux1.columns.isin(['SCF_Amortization_Term', 'Other_Amortization_Term', 'SCF_Funded','SCF_Funded_New'])]]"
      ]
    }
  ],
  "metadata": {
    "interpreter": {
      "hash": "814635fff90d4fb7edb7cf7b4efbafc2586e819c8eea62750f0795f97ef3e14f"
    },
    "kernel_info": {
      "name": "python38-azureml"
    },
    "kernelspec": {
      "display_name": "Python 3.8 - AzureML",
      "language": "python",
      "name": "python38-azureml"
    },
    "language_info": {
      "codemirror_mode": {
        "name": "ipython",
        "version": 3
      },
      "file_extension": ".py",
      "mimetype": "text/x-python",
      "name": "python",
      "nbconvert_exporter": "python",
      "pygments_lexer": "ipython3",
      "version": "3.8.5"
    },
    "microsoft": {
      "host": {
        "AzureML": {
          "notebookHasBeenCompleted": true
        }
      }
    },
    "nteract": {
      "version": "nteract-front-end@1.0.0"
    }
  },
  "nbformat": 4,
  "nbformat_minor": 2
}
