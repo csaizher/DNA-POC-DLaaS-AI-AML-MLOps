{
  "cells": [
    {
      "cell_type": "markdown",
      "source": [
        "# Phase 1: Discovery Inference: analysis of inference results with new data."
      ],
      "metadata": {
        "nteract": {
          "transient": {
            "deleting": false
          }
        }
      }
    },
    {
      "cell_type": "markdown",
      "source": [
        "### LIBRARY LOAD"
      ],
      "metadata": {
        "nteract": {
          "transient": {
            "deleting": false
          }
        }
      }
    },
    {
      "cell_type": "markdown",
      "source": [
        "####  MlOps framework library loading"
      ],
      "metadata": {
        "nteract": {
          "transient": {
            "deleting": false
          }
        }
      }
    },
    {
      "cell_type": "code",
      "source": [
        "from azureml.core import Workspace\n",
        "from amlops.mlodata import MLOData\n",
        "import pandas as pd\n",
        "import numpy as np\n",
        "import seaborn as sns\n",
        "import matplotlib\n",
        "import matplotlib.pyplot as plt\n",
        "from sklearn.preprocessing import LabelEncoder\n",
        "from numpy import unique, where\n",
        "import re\n",
        "import gc\n",
        "import os\n",
        "\n",
        "gc.collect()"
      ],
      "outputs": [
        {
          "output_type": "execute_result",
          "execution_count": 1,
          "data": {
            "text/plain": "0"
          },
          "metadata": {}
        }
      ],
      "execution_count": 1,
      "metadata": {
        "gather": {
          "logged": 1652100767655
        },
        "jupyter": {
          "outputs_hidden": false,
          "source_hidden": false
        },
        "nteract": {
          "transient": {
            "deleting": false
          }
        }
      }
    },
    {
      "cell_type": "markdown",
      "source": [
        "### DATA LOADING "
      ],
      "metadata": {}
    },
    {
      "cell_type": "markdown",
      "source": [
        "#### Data is loaded with the result of the inferences"
      ],
      "metadata": {
        "nteract": {
          "transient": {
            "deleting": false
          }
        }
      }
    },
    {
      "cell_type": "code",
      "source": [
        "# Connection to the workspace of AzureML\n",
        "workspace = Workspace.from_config()\n",
        "\n",
        "dataset_name = \"daas-lab-frc-dataset-inference-ai-001-ac-predictions\"\n",
        "version = 1\n",
        "predicciones = MLOData.load_df(workspace, dataset_name, version)\n",
        "#predicciones.style.hide_index()\n",
        "predicciones.head()"
      ],
      "outputs": [
        {
          "output_type": "execute_result",
          "execution_count": 3,
          "data": {
            "text/plain": "   SCF_Total_Amount_Financed  Other_Total_Amount_Financed  SCF_Interest_Rate  \\\n0                   48549.90                     51339.74               9.75   \n1                   27128.43                     38671.50              18.75   \n2                   45202.13                         0.00              10.50   \n3                   17693.44                     24302.39              26.50   \n4                   17693.44                     13831.54              26.50   \n\n   SCF_Borrowing_Term  Other__Borrowing_Term  SCF_Monthly_Payment  \\\n0                  84                   84.0             800.0200   \n1                  60                   84.0             700.0000   \n2                  78                   78.0             802.3383   \n3                  60                   84.0             535.0000   \n4                  60                   60.0             535.0000   \n\n   SCF_Initial_Credit_Decision_Time_Min  \\\n0                                   2.3   \n1                                   3.5   \n2                                  17.7   \n3                                 115.3   \n4                                   9.1   \n\n   Other_Initial_Credit_Decision_Time_Min  AVG_Other_Monthly_Payment  \\\n0                                    69.8                      787.5   \n1                                   169.4                      712.5   \n2                                    12.3                      712.5   \n3                                   111.4                      537.5   \n4                                  1014.6                      412.5   \n\n   CCAA_New  First_Submission_New  Other_Interest_Rate_Higher_New  \\\n0       9.0                   0.0                             0.0   \n1       6.0                   0.0                             0.0   \n2       1.0                   0.0                             0.0   \n3       5.0                   1.0                             0.0   \n4       6.0                   1.0                             1.0   \n\n   SCF_Down_Payment_New  Other_Down_Payment_New  SCF_Promotion_Campaign_New  \\\n0                   0.0                     0.0                         0.0   \n1                   0.0                     0.0                         0.0   \n2                   0.0                     0.0                         0.0   \n3                   0.0                     0.0                         0.0   \n4                   0.0                   100.0                         0.0   \n\n   Other_Promotion_Campaign_New  Predictions_Ind_SCF_Funded  \n0                           0.0                           0  \n1                           0.0                           0  \n2                           0.0                           1  \n3                           0.0                           0  \n4                           0.0                           0  ",
            "text/html": "<div>\n<style scoped>\n    .dataframe tbody tr th:only-of-type {\n        vertical-align: middle;\n    }\n\n    .dataframe tbody tr th {\n        vertical-align: top;\n    }\n\n    .dataframe thead th {\n        text-align: right;\n    }\n</style>\n<table border=\"1\" class=\"dataframe\">\n  <thead>\n    <tr style=\"text-align: right;\">\n      <th></th>\n      <th>SCF_Total_Amount_Financed</th>\n      <th>Other_Total_Amount_Financed</th>\n      <th>SCF_Interest_Rate</th>\n      <th>SCF_Borrowing_Term</th>\n      <th>Other__Borrowing_Term</th>\n      <th>SCF_Monthly_Payment</th>\n      <th>SCF_Initial_Credit_Decision_Time_Min</th>\n      <th>Other_Initial_Credit_Decision_Time_Min</th>\n      <th>AVG_Other_Monthly_Payment</th>\n      <th>CCAA_New</th>\n      <th>First_Submission_New</th>\n      <th>Other_Interest_Rate_Higher_New</th>\n      <th>SCF_Down_Payment_New</th>\n      <th>Other_Down_Payment_New</th>\n      <th>SCF_Promotion_Campaign_New</th>\n      <th>Other_Promotion_Campaign_New</th>\n      <th>Predictions_Ind_SCF_Funded</th>\n    </tr>\n  </thead>\n  <tbody>\n    <tr>\n      <th>0</th>\n      <td>48549.90</td>\n      <td>51339.74</td>\n      <td>9.75</td>\n      <td>84</td>\n      <td>84.0</td>\n      <td>800.0200</td>\n      <td>2.3</td>\n      <td>69.8</td>\n      <td>787.5</td>\n      <td>9.0</td>\n      <td>0.0</td>\n      <td>0.0</td>\n      <td>0.0</td>\n      <td>0.0</td>\n      <td>0.0</td>\n      <td>0.0</td>\n      <td>0</td>\n    </tr>\n    <tr>\n      <th>1</th>\n      <td>27128.43</td>\n      <td>38671.50</td>\n      <td>18.75</td>\n      <td>60</td>\n      <td>84.0</td>\n      <td>700.0000</td>\n      <td>3.5</td>\n      <td>169.4</td>\n      <td>712.5</td>\n      <td>6.0</td>\n      <td>0.0</td>\n      <td>0.0</td>\n      <td>0.0</td>\n      <td>0.0</td>\n      <td>0.0</td>\n      <td>0.0</td>\n      <td>0</td>\n    </tr>\n    <tr>\n      <th>2</th>\n      <td>45202.13</td>\n      <td>0.00</td>\n      <td>10.50</td>\n      <td>78</td>\n      <td>78.0</td>\n      <td>802.3383</td>\n      <td>17.7</td>\n      <td>12.3</td>\n      <td>712.5</td>\n      <td>1.0</td>\n      <td>0.0</td>\n      <td>0.0</td>\n      <td>0.0</td>\n      <td>0.0</td>\n      <td>0.0</td>\n      <td>0.0</td>\n      <td>1</td>\n    </tr>\n    <tr>\n      <th>3</th>\n      <td>17693.44</td>\n      <td>24302.39</td>\n      <td>26.50</td>\n      <td>60</td>\n      <td>84.0</td>\n      <td>535.0000</td>\n      <td>115.3</td>\n      <td>111.4</td>\n      <td>537.5</td>\n      <td>5.0</td>\n      <td>1.0</td>\n      <td>0.0</td>\n      <td>0.0</td>\n      <td>0.0</td>\n      <td>0.0</td>\n      <td>0.0</td>\n      <td>0</td>\n    </tr>\n    <tr>\n      <th>4</th>\n      <td>17693.44</td>\n      <td>13831.54</td>\n      <td>26.50</td>\n      <td>60</td>\n      <td>60.0</td>\n      <td>535.0000</td>\n      <td>9.1</td>\n      <td>1014.6</td>\n      <td>412.5</td>\n      <td>6.0</td>\n      <td>1.0</td>\n      <td>1.0</td>\n      <td>0.0</td>\n      <td>100.0</td>\n      <td>0.0</td>\n      <td>0.0</td>\n      <td>0</td>\n    </tr>\n  </tbody>\n</table>\n</div>"
          },
          "metadata": {}
        }
      ],
      "execution_count": 3,
      "metadata": {
        "gather": {
          "logged": 1652101237464
        },
        "jupyter": {
          "outputs_hidden": false,
          "source_hidden": false
        },
        "nteract": {
          "transient": {
            "deleting": false
          }
        }
      }
    },
    {
      "cell_type": "markdown",
      "source": [
        "### DISPLAY RESULTS\n",
        "*Note*: for each of the records or operations, whether consumer finance provides the funds, or its competidors fund them"
      ],
      "metadata": {
        "nteract": {
          "transient": {
            "deleting": false
          }
        }
      }
    },
    {
      "cell_type": "code",
      "source": [
        "cols = [col for col in predicciones.columns if col !='Predictions_Ind_SCF_Funded' and col !='date']\n",
        "X = predicciones[cols]\n",
        "X = predicciones[cols].to_numpy()\n",
        "y = predicciones['Predictions_Ind_SCF_Funded']\n",
        "y.values"
      ],
      "outputs": [
        {
          "output_type": "execute_result",
          "execution_count": 4,
          "data": {
            "text/plain": "array([0, 0, 1, 0, 0, 0, 1, 1, 0, 0, 0, 1, 0, 0, 0, 0, 0, 0, 0, 0, 0, 0,\n       0, 0, 0, 0, 0, 0, 0, 1, 1, 0, 0, 0, 0, 0, 0, 0, 1, 0, 0, 1, 0, 0,\n       0, 1, 1, 0, 1, 1, 0, 0, 0, 0, 0, 0, 0, 0, 0, 0, 1, 0, 0, 0, 1, 0,\n       0, 0, 0, 0, 0, 0, 0, 0, 1, 0, 0, 0, 0, 0, 0, 0, 0, 0, 1, 0, 0, 0,\n       0, 0, 0, 0, 0, 1, 0, 0, 0, 0, 0, 0, 0, 0, 1, 1, 0, 0, 0, 1, 0, 0,\n       0, 0, 1, 1, 0, 0, 0, 0, 0, 0, 0, 0, 1, 1, 0, 0, 0, 0, 0, 0, 1, 0,\n       1, 1, 0, 0, 0, 0, 0, 0, 0, 0, 0, 0, 0, 0, 0, 0, 0, 0, 0, 0, 0, 0,\n       1, 0, 0, 0, 0, 0, 0, 0, 0, 0, 0, 0, 0, 0, 0, 0, 1, 0, 0, 0, 1, 0,\n       1, 0, 0, 0, 0, 0, 1, 1, 0, 0, 0, 0, 1, 0, 1, 0, 0, 0, 1, 0, 0, 0,\n       0, 1, 0, 0, 1, 0, 0, 0, 0, 1, 0, 1, 0, 0, 0, 0, 0, 0, 0, 0, 0, 0,\n       0, 1, 0, 0, 0, 0, 0, 1, 0, 0, 0, 0, 0, 0, 0, 0, 1, 0, 1, 0, 0, 0,\n       0, 1, 0, 0, 0, 0, 0, 1, 0, 0, 0, 0, 0, 0, 0, 0, 1, 0, 0, 0, 1, 1,\n       0, 0, 0, 0, 0, 0, 0, 0, 0, 0, 0, 0, 0, 0, 0, 0, 0, 0, 0, 1, 0, 0,\n       0, 0, 0, 0, 0, 0, 0, 0, 0, 0, 0, 0, 0, 0, 0, 0, 0, 0, 0, 0, 0, 1,\n       0, 1, 0, 1, 0, 0, 0, 0, 0, 0, 0, 0, 1, 0, 0, 0, 0, 0, 0, 0, 0, 0,\n       0, 0, 0, 1, 0, 0, 0, 0, 0, 1, 0, 0, 0, 0, 0, 0, 0, 0, 0, 0, 0, 1,\n       1, 0, 0, 0, 0, 0, 0, 0, 0, 0, 1, 0, 0, 0, 0, 0, 0, 1, 0, 0, 0, 0,\n       0, 0, 0, 0, 1, 0, 0, 0, 0, 0, 0, 0, 0, 0, 0, 0, 1, 0, 0, 1, 0, 0,\n       0, 0, 0, 0, 0, 0, 0, 0, 0, 0, 0, 0, 0, 0, 0, 0, 0, 0, 0, 0, 1, 0,\n       0, 0, 0, 0, 0, 0, 0, 1, 0, 0, 0, 0, 0, 0, 0, 0, 0, 0, 0, 1, 1, 0,\n       0, 0, 1, 0, 0, 0, 1, 0, 0, 0, 0, 0, 0, 0, 0, 1, 0, 0, 0, 0, 1, 1,\n       1, 0, 0, 0, 0, 0, 0, 0, 0, 0, 0, 0, 0, 0, 0, 0, 0, 0, 1, 0, 0, 0,\n       1, 0, 0, 0, 0, 0, 1, 0, 0, 0, 0, 0, 0, 0, 0, 0, 0, 0, 0, 0, 0, 0,\n       0, 0, 0, 0, 0, 0, 0, 0, 0, 0, 0, 0, 0, 0, 0, 0, 0, 0, 0, 0, 0, 0,\n       0, 0, 0, 0, 0, 0, 0, 0, 1, 1, 0, 0, 0, 0, 0, 0, 0, 0, 0, 0, 0, 0,\n       0, 0, 0, 0, 0, 0, 1, 0, 0, 0, 0, 0, 0, 0, 0, 0, 0, 0, 0, 0, 0, 0,\n       0, 0, 0, 0, 0, 0, 0, 0, 0, 1, 0, 0, 0, 1, 0, 0, 0, 0, 0, 0, 0, 0,\n       0, 0, 0, 0, 0, 0, 0, 0, 1, 1, 0, 0, 0, 1, 0, 0, 0, 0, 1, 0, 0, 0,\n       1, 0, 1, 1, 1, 0, 0, 0, 0, 1, 0, 0, 0, 0, 1, 0, 0, 0])"
          },
          "metadata": {}
        }
      ],
      "execution_count": 4,
      "metadata": {
        "gather": {
          "logged": 1652101240587
        },
        "jupyter": {
          "outputs_hidden": false,
          "source_hidden": false
        },
        "nteract": {
          "transient": {
            "deleting": false
          }
        }
      }
    },
    {
      "cell_type": "markdown",
      "source": [
        "### RESULTS DISPLAY"
      ],
      "metadata": {}
    },
    {
      "cell_type": "markdown",
      "source": [
        "#### Of the results obtained, it can be observed how many instances have been classified for each class"
      ],
      "metadata": {
        "nteract": {
          "transient": {
            "deleting": false
          }
        }
      }
    },
    {
      "cell_type": "code",
      "source": [
        "print('Distribution of transactions and which ones have been won by consumer finance or not')\n",
        "clusters = 0,1\n",
        "for cluster in clusters:\n",
        "\trow_ix = where(y == cluster)\n",
        "\tplt.scatter(X[row_ix, 0], X[row_ix, 1])\n",
        "plt.show()\n",
        "\n",
        "unique, counts = np.unique(y.values, return_counts=True)\n",
        "dict_class_values = dict(zip(unique, counts))\n",
        "names = list(dict_class_values.keys())\n",
        "values = list(dict_class_values.values())\n",
        "plt.bar(range(len(dict_class_values)), list(dict_class_values.values()), align='center')\n",
        "plt.bar(0,values[0],tick_label=names[0])\n",
        "plt.bar(1,values[1],tick_label=names[1])\n",
        "\n",
        "print(f'There are {dict_class_values[0]} instances or cases in which consumer finance does not fund, and it is one of the other competitors that wins the operation')\n",
        "print(f'There are {dict_class_values[1]} iinstances or cases in which consumer finance funds and wins the operation')"
      ],
      "outputs": [
        {
          "output_type": "stream",
          "name": "stdout",
          "text": "Distribution of transactions and which ones have been won by consumer finance or not\n"
        },
        {
          "output_type": "display_data",
          "data": {
            "text/plain": "<Figure size 432x288 with 1 Axes>",
            "image/png": "[encoded data removed]"
          },
          "metadata": {
            "needs_background": "light"
          }
        },
        {
          "output_type": "stream",
          "name": "stdout",
          "text": "There are 543 instances or cases in which consumer finance does not fund, and it is one of the other competitors that wins the operation\nThere are 91 iinstances or cases in which consumer finance funds and wins the operation\n"
        },
        {
          "output_type": "display_data",
          "data": {
            "text/plain": "<Figure size 432x288 with 1 Axes>",
            "image/png": "[encoded data removed]"
          },
          "metadata": {
            "needs_background": "light"
          }
        }
      ],
      "execution_count": 5,
      "metadata": {
        "gather": {
          "logged": 1652101244470
        },
        "jupyter": {
          "outputs_hidden": false,
          "source_hidden": false
        },
        "nteract": {
          "transient": {
            "deleting": false
          }
        }
      }
    }
  ],
  "metadata": {
    "interpreter": {
      "hash": "6d65a8c07f5b6469e0fc613f182488c0dccce05038bbda39e5ac9075c0454d11"
    },
    "kernel_info": {
      "name": "python38-azureml"
    },
    "kernelspec": {
      "name": "python38-azureml",
      "language": "python",
      "display_name": "Python 3.8 - AzureML"
    },
    "language_info": {
      "name": "python",
      "version": "3.8.5",
      "mimetype": "text/x-python",
      "codemirror_mode": {
        "name": "ipython",
        "version": 3
      },
      "pygments_lexer": "ipython3",
      "nbconvert_exporter": "python",
      "file_extension": ".py"
    },
    "microsoft": {
      "host": {
        "AzureML": {
          "notebookHasBeenCompleted": true
        }
      }
    },
    "nteract": {
      "version": "nteract-front-end@1.0.0"
    }
  },
  "nbformat": 4,
  "nbformat_minor": 2
}